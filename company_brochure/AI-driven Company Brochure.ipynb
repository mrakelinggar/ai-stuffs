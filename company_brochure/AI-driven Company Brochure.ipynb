{
 "cells": [
  {
   "cell_type": "code",
   "execution_count": 18,
   "id": "7cb81664",
   "metadata": {},
   "outputs": [],
   "source": [
    "import os\n",
    "import requests\n",
    "from dotenv import load_dotenv\n",
    "from bs4 import BeautifulSoup\n",
    "from IPython.display import Markdown, display, update_display\n",
    "from openai import OpenAI\n",
    "import json"
   ]
  },
  {
   "cell_type": "code",
   "execution_count": 2,
   "id": "ad3a8320",
   "metadata": {},
   "outputs": [
    {
     "name": "stdout",
     "output_type": "stream",
     "text": [
      "API key looks good so far\n"
     ]
    }
   ],
   "source": [
    "# Initialize and constants\n",
    "\n",
    "load_dotenv(override=True)\n",
    "api_key = os.getenv('OPENAI_API_KEY')\n",
    "\n",
    "if api_key and api_key.startswith('sk-proj-') and len(api_key)>10:\n",
    "    print(\"API key looks good so far\")\n",
    "else:\n",
    "    print(\"There might be a problem with your API key? Please visit the troubleshooting notebook!\")\n",
    "    \n",
    "MODEL = 'gpt-4o-mini'\n",
    "openai = OpenAI()"
   ]
  },
  {
   "cell_type": "code",
   "execution_count": 3,
   "id": "8ab066d6",
   "metadata": {},
   "outputs": [],
   "source": [
    "# A class to represent a Webpage\n",
    "\n",
    "# Some websites need you to use proper headers when fetching them:\n",
    "headers = {\n",
    " \"User-Agent\": \"Mozilla/5.0 (Windows NT 10.0; Win64; x64) AppleWebKit/537.36 (KHTML, like Gecko) Chrome/117.0.0.0 Safari/537.36\"\n",
    "}\n",
    "\n",
    "class Website:\n",
    "    \"\"\"\n",
    "    A utility class to represent a Website that we have scraped, now with links\n",
    "    \"\"\"\n",
    "\n",
    "    def __init__(self, url):\n",
    "        self.url = url\n",
    "        response = requests.get(url, headers=headers)\n",
    "        self.body = response.content\n",
    "        soup = BeautifulSoup(self.body, 'html.parser')\n",
    "        self.title = soup.title.string if soup.title else \"No title found\"\n",
    "        if soup.body:\n",
    "            for irrelevant in soup.body([\"script\", \"style\", \"img\", \"input\"]):\n",
    "                irrelevant.decompose()\n",
    "            self.text = soup.body.get_text(separator=\"\\n\", strip=True)\n",
    "        else:\n",
    "            self.text = \"\"\n",
    "        links = [link.get('href') for link in soup.find_all('a')]\n",
    "        self.links = [link for link in links if link]\n",
    "\n",
    "    def get_contents(self):\n",
    "        return f\"Webpage Title:\\n{self.title}\\nWebpage Contents:\\n{self.text}\\n\\n\"\n",
    "    \n",
    "    "
   ]
  },
  {
   "cell_type": "code",
   "execution_count": 6,
   "id": "7380aca9",
   "metadata": {},
   "outputs": [
    {
     "name": "stdout",
     "output_type": "stream",
     "text": [
      "Webpage Title:\n",
      "Breaking News, Latest News and Videos | CNN\n",
      "Webpage Contents:\n",
      "CNN values your feedback\n",
      "1. How relevant is this ad to you?\n",
      "2. Did you encounter any technical issues?\n",
      "Video player was slow to load content\n",
      "Video content never loaded\n",
      "Ad froze or did not finish loading\n",
      "Video content did not start after ad\n",
      "Audio on ad was too loud\n",
      "Other issues\n",
      "Ad never loaded\n",
      "Ad prevented/slowed the page from loading\n",
      "Content moved around while ad loaded\n",
      "Ad was repetitive to ads I've seen previously\n",
      "Other issues\n",
      "Cancel\n",
      "Submit\n",
      "Thank You!\n",
      "Your effort and contribution in providing this feedback is much\n",
      "                                        appreciated.\n",
      "Close\n",
      "Ad Feedback\n",
      "Close icon\n",
      "US\n",
      "World\n",
      "Politics\n",
      "Business\n",
      "Health\n",
      "Entertainment\n",
      "Style\n",
      "Travel\n",
      "Sports\n",
      "Science\n",
      "Climate\n",
      "Weather\n",
      "Ukraine-Russia War\n",
      "Israel-Hamas War\n",
      "Underscored\n",
      "Amazon Prime Day\n",
      "Games\n",
      "More\n",
      "US\n",
      "World\n",
      "Politics\n",
      "Business\n",
      "Health\n",
      "Entertainment\n",
      "Style\n",
      "Travel\n",
      "Sports\n",
      "Science\n",
      "Climate\n",
      "Weather\n",
      "Ukraine-Russia War\n",
      "Israel-Hamas War\n",
      "Underscored\n",
      "Amazon Prime\n",
      "['https://www.cnn.com', 'https://www.cnn.com/us', 'https://www.cnn.com/world', 'https://www.cnn.com/politics', 'https://www.cnn.com/business', 'https://www.cnn.com/health', 'https://www.cnn.com/entertainment', 'https://www.cnn.com/style', 'https://www.cnn.com/travel', 'https://www.cnn.com/sports']\n"
     ]
    }
   ],
   "source": [
    "w = Website(\"https://www.cnn.com/\")\n",
    "print(w.get_contents()[:1000])  # Print the first 1000 characters of the content\n",
    "print(w.links[:10])  # Print the first 10 links"
   ]
  },
  {
   "cell_type": "code",
   "execution_count": 4,
   "id": "0422a252",
   "metadata": {},
   "outputs": [
    {
     "name": "stdout",
     "output_type": "stream",
     "text": [
      "You are provided with a list of links found on a webpage. You are able to decide which of the links would be most relevant to include in a brochure about the company, such as links to an About page, or a Company page, or Careers/Jobs pages.\n",
      "You should respond in JSON as in this example:\n",
      "{\n",
      "    \"links\": [\n",
      "        {\"type\": \"about page\", \"url\": \"https://full.url/goes/here/about\"},\n",
      "        {\"type\": \"careers page\": \"url\": \"https://another.full.url/careers\"}\n",
      "    ]\n",
      "}\n",
      "\n"
     ]
    }
   ],
   "source": [
    "link_system_prompt = \"You are provided with a list of links found on a webpage. \\\n",
    "You are able to decide which of the links would be most relevant to include in a brochure about the company, \\\n",
    "such as links to an About page, or a Company page, or Careers/Jobs pages.\\n\"\n",
    "link_system_prompt += \"You should respond in JSON as in this example:\"\n",
    "link_system_prompt += \"\"\"\n",
    "{\n",
    "    \"links\": [\n",
    "        {\"type\": \"about page\", \"url\": \"https://full.url/goes/here/about\"},\n",
    "        {\"type\": \"careers page\": \"url\": \"https://another.full.url/careers\"}\n",
    "    ]\n",
    "}\n",
    "\"\"\"\n",
    "\n",
    "print(link_system_prompt)"
   ]
  },
  {
   "cell_type": "code",
   "execution_count": 5,
   "id": "2917cf34",
   "metadata": {},
   "outputs": [],
   "source": [
    "def get_links_user_prompt(website):\n",
    "    user_prompt = f\"Here is the list of links on the website of {website.url} - \"\n",
    "    user_prompt += \"please decide which of these are relevant web links for a brochure about the company, respond with the full https URL in JSON format. \\\n",
    "Do not include Terms of Service, Privacy, email links.\\n\"\n",
    "    user_prompt += \"Links (some might be relative links):\\n\"\n",
    "    user_prompt += \"\\n\".join(website.links)\n",
    "    return user_prompt"
   ]
  },
  {
   "cell_type": "code",
   "execution_count": 8,
   "id": "8b7712a6",
   "metadata": {},
   "outputs": [],
   "source": [
    "def get_links(url):\n",
    "    website = Website(url)\n",
    "    response = openai.chat.completions.create(\n",
    "        model=MODEL,\n",
    "        messages=[\n",
    "            {\"role\": \"system\", \"content\": link_system_prompt},\n",
    "            {\"role\": \"user\", \"content\": get_links_user_prompt(website)}\n",
    "      ],\n",
    "        response_format={\"type\": \"json_object\"}\n",
    "    )\n",
    "    result = response.choices[0].message.content\n",
    "    return json.loads(result)"
   ]
  },
  {
   "cell_type": "code",
   "execution_count": null,
   "id": "16ce282e",
   "metadata": {},
   "outputs": [
    {
     "data": {
      "text/plain": [
       "{'links': [{'type': 'about page', 'url': 'https://www.cnn.com/about'},\n",
       "  {'type': 'careers page', 'url': 'https://careers.wbd.com/cnnjobs'},\n",
       "  {'type': 'profiles page', 'url': 'https://www.cnn.com/profiles'},\n",
       "  {'type': 'leadership page',\n",
       "   'url': 'https://www.cnn.com/profiles/cnn-leadership'},\n",
       "  {'type': 'newsletters page', 'url': 'https://www.cnn.com/newsletters'}]}"
      ]
     },
     "execution_count": 10,
     "metadata": {},
     "output_type": "execute_result"
    }
   ],
   "source": [
    "result = get_links(\"https://www.cnn.com/\")\n",
    "result"
   ]
  },
  {
   "cell_type": "code",
   "execution_count": 11,
   "id": "e76f6f74",
   "metadata": {},
   "outputs": [
    {
     "name": "stdout",
     "output_type": "stream",
     "text": [
      "Found links: {'links': [{'type': 'about page', 'url': 'https://www.cnn.com/about'}, {'type': 'careers page', 'url': 'https://careers.wbd.com/cnnjobs'}, {'type': 'company page', 'url': 'https://www.cnn.com/profiles'}, {'type': 'leadership page', 'url': 'https://www.cnn.com/profiles/cnn-leadership'}, {'type': 'newsletters page', 'url': 'https://www.cnn.com/newsletters'}]}\n"
     ]
    },
    {
     "data": {
      "text/plain": [
       "'Landing page:\\nWebpage Title:\\nBreaking News, Latest News and Videos | CNN\\nWebpage Contents:\\nCNN values your feedback\\n1. How relevant is this ad to you?\\n2. Did you encounter any technical issues?\\nVideo player was slow to load content\\nVideo content never loaded\\nAd froze or did not finish loading\\nVideo content did not start after ad\\nAudio on ad was too loud\\nOther issues\\nAd never loaded\\nAd prevented/slowed the page from loading\\nContent moved around while ad loaded\\nAd was repetitive to ads I\\'ve seen previously\\nOther issues\\nCancel\\nSubmit\\nThank You!\\nYour effort and contribution in providing this feedback is much\\n                                        appreciated.\\nClose\\nAd Feedback\\nClose icon\\nUS\\nWorld\\nPolitics\\nBusiness\\nHealth\\nEntertainment\\nStyle\\nTravel\\nSports\\nScience\\nClimate\\nWeather\\nUkraine-Russia War\\nIsrael-Hamas War\\nUnderscored\\nAmazon Prime Day\\nGames\\nMore\\nUS\\nWorld\\nPolitics\\nBusiness\\nHealth\\nEntertainment\\nStyle\\nTravel\\nSports\\nScience\\nClimate\\nWeather\\nUkraine-Russia War\\nIsrael-Hamas War\\nUnderscored\\nAmazon Prime Day\\nGames\\nWatch\\nListen\\nLive TV\\nSubscribe\\nSign in\\nMy Account\\nSettings\\nNewsletters\\nTopics you follow\\nSign out\\nYour CNN account\\nSign in to your CNN account\\nSign in\\nMy Account\\nSettings\\nNewsletters\\nTopics you follow\\nSign out\\nYour CNN account\\nSign in to your CNN account\\nLive TV\\nListen\\nWatch\\nEdition\\nUS\\nInternational\\nArabic\\nEspañol\\nEdition\\nUS\\nInternational\\nArabic\\nEspañol\\nUS\\nCrime + Justice\\nWorld\\nAfrica\\nAmericas\\nAsia\\nAustralia\\nChina\\nEurope\\nIndia\\nMiddle East\\nUnited Kingdom\\nPolitics\\nTrump\\nFacts First\\nCNN Polls\\n2025 Elections\\nBusiness\\nTech\\nMedia\\nCalculators\\nVideos\\nMarkets\\nPre-markets\\nAfter-Hours\\nFear & Greed\\nInvesting\\nMarkets Now\\nNightcap\\nHealth\\nLife, But Better\\nFitness\\nFood\\nSleep\\nMindfulness\\nRelationships\\nEntertainment\\nMovies\\nTelevision\\nCelebrity\\nTech\\nInnovate\\nForeseeable Future\\nMission: Ahead\\nWork Transformed\\nInnovative Cities\\nStyle\\nArts\\nDesign\\nFashion\\nArchitecture\\nLuxury\\nBeauty\\nVideo\\nTravel\\nDestinations\\nFood & Drink\\nStay\\nVideos\\nSports\\nPro Football\\nCollege Football\\nBasketball\\nBaseball\\nSoccer\\nOlympics\\nHockey\\nScience\\nSpace\\nLife\\nUnearthed\\nClimate\\nSolutions\\nWeather\\nWeather\\nVideo\\nClimate\\nUkraine-Russia War\\nIsrael-Hamas War\\nWatch\\nLive TV\\nCNN Headlines\\nCNN Shorts\\nShows A-Z\\nCNN10\\nCNN Max\\nCNN TV Schedules\\nFlashDocs\\nListen\\nCNN 5 Things\\nChasing Life with Dr. Sanjay Gupta\\nThe Assignment with Audie Cornish\\nOne Thing\\nTug of War\\nCNN Political Briefing\\nThe Axe Files\\nAll There Is with Anderson Cooper\\nAll CNN Audio podcasts\\nCNN Underscored\\nElectronics\\nFashion\\nBeauty\\nHealth & Fitness\\nHome\\nReviews\\nDeals\\nGifts\\nTravel\\nOutdoors\\nPets\\nAmazon Prime Day\\nGames\\nDaily Crossword\\nJumble Crossword\\nSudoblock\\nSudoku\\n5 Things Quiz\\nAbout CNN\\nSubscribe\\nPhotos\\nInvestigations\\nCNN Profiles\\nCNN Leadership\\nCNN Newsletters\\nWork for CNN\\nFollow CNN\\nLive Updates\\nTexas flooding\\nTrending\\nTesla stock\\nKelly Osbourne engaged\\nCovid-19 vaccine lawsuit\\nTrump tariff threat\\nTravis Decker search\\nBest Prime Day deals\\nAndrew Caballero-Reynolds/AFP/Getty Images\\nTrump announces new tariffs of up to 40% on a growing number of countries\\nStocks tumble after Trump announces tariffs\\nNew York State Sex Offender Registry/AP/File\\nNew Jeffrey Epstein information refutes right-wing conspiracy theories\\nAnalysis\\nPam Bondi’s botched handling of the Epstein files\\nDeath toll from flooding is at 94, including 27 from Camp Mystic\\nShow\\xa0all\\n•\\nLive Updates\\nLive Updates\\nKevin Booth\\nLive Updates\\nTexas is bracing for more rain as rescuers are still searching for dozens of missing people from the catastrophic floods\\nVideo\\nPamela Brown asks official why evacuations weren’t ordered\\n1:12\\n‘Oh my God, we’re floating’: What survivors – and those still missing – faced in terrifying Texas floods\\nVideo\\nRescue swimmer credited with saving 165 people speaks to CNN\\n6:50\\nCNN Headlines\\n- Source:\\nCNN\\nWatch the latest CNN Headlines\\nThe Middle East\\n•\\nAnalysis for Subscribers\\nAnalysis for Subscribers\\nNir Elias/Pool/Getty Images\\nAnalysis for Subscribers\\nHere’s what could be on the agenda as Israeli Prime Minister Netanyahu visits Washington\\nMahmoud Issa/Reuters\\nHamas submits ‘positive response’ to ceasefire proposal in major step toward deal\\nMore Top Stories\\n•\\nFor Subscribers\\nFor Subscribers\\nWVTM\\nFor Subscribers\\nHe traveled 8,000 miles for his grandson’s graduation. The next day he vanished\\nMajor medical associations sue Kennedy, Trump administration health leaders for Covid vaccine changes\\nTesla stock tanks after Trump dismisses Musk’s new political party plan and calls him ‘off the rails’\\nVideo\\nPet lion escapes, attacking woman and her kids\\n0:34\\nTrump administration says it will deport Abrego Garcia before his trial if he’s released from criminal custody\\nFormer transport minister dies by suicide hours after Putin fired him, officials say\\nVideo\\nCourt releases CCTV footage shown during ‘mushroom murder’ trial\\n0:38\\nFlood risk and impact\\nCNN\\nCamp Mystic was known to be at high risk of flooding\\nThese are the victims of the Texas flooding tragedy\\nHere’s how to help\\n•\\nVideo\\n1:23\\nCNN\\nVideo\\nCNN anchor reflects on her childhood memories at Camp Mystic\\n1:23\\n•\\nGallery\\nGallery\\nRonaldo Schemidt/AFP/Getty Images\\nGallery\\nDeadly flooding in Texas\\nAd Feedback\\nAd Feedback\\nCNN Underscored\\nApple\\nI’ve tracked Amazon Prime Day laptop deals for a decade. Here are the best early sales\\nJul 7, 2025\\nAlex Rennie/CNN Underscored\\nWe tested more than 20 coolers. These 4 are the best for the beach\\nJun 25, 2025\\nMaxwell Shukuya/CNN Underscored\\nApple AirTags just dropped to their best price of the year\\nJul 2, 2025\\nAd Feedback\\nTravel and tourism\\nCourtesy Shallen and Andrew McGowan\\nThey fell in ‘love at first sight’ at Yellowstone. But her family didn’t approve\\nJoanna Steidle/The Inaugural International Aerial Photographer of the Year\\nStunning images from the 2025 International Aerial Photographer of the Year contest\\nAlper Sitki Ersoy/Anadolu/Getty Images\\nThe hilltop town where Pope Leo XIV is staying cool on his summer vacation\\nSports report\\nVisionhaus/Getty Images\\nThis player says game was ‘stolen’ from her. It led to an apology from Wimbledon organizers\\n•\\nVideo\\n5:45\\nmonkeybusinessimages/iStockphoto/Getty Images\\nVideo\\nIt’s become expensive to be a sports fan, according to NYT report\\n5:45\\nCelebrity life\\nDenise Truscello/Getty Images\\nKelly Clarkson ‘devastated to have to postpone’ her Las Vegas residency\\nKaterina Sulova/CTK/AP\\nMichael Douglas says he has no plans to act again\\nFor Subscribers\\n•\\nFor Subscribers\\nFor Subscribers\\nKenny Holston/The New York Times/Redux\\nFor Subscribers\\nThis ‘Trump doctrine’ foreign policy skeptic is now a top advocate\\n•\\nFor Subscribers\\nFor Subscribers\\nSaul Loeb/AFP/Getty Images\\nFor Subscribers\\nTrump’s new version of Oval Office meetings has rattled some foreign leaders\\n•\\nFor Subscribers\\nFor Subscribers\\nCourtesy Adrian Clouatre\\nFor Subscribers\\nICE detains breastfeeding mom as veteran husband fights for her freedom\\nAd Feedback\\nAd Feedback\\nCNN Underscored\\nBest-in-class\\nAlex Rennie/CNN Underscored\\nDon’t wait for Amazon Prime Day, our experts found 71 deals worth shopping early\\nSunglasses don’t need to be expensive to be high-quality. So we found 16 of the best ones\\n28 dermatologist-approved facial sunscreens you’ll want to wear daily\\nDon’t sleep on these 31 early Amazon Prime Day mattress deals\\nCrest 3D Whitestrips just hit an all-time low price\\nExpert-backed guides\\nLack of Color\\nThe best sun hats keep you cool and comfortable. Here are 16 stylist-recommended picks\\nI rounded up 9 early Prime Day shoe deals to shop ahead of the big event\\nEspresso machines are a good investment. Here are our top picks\\nSweat less, chill more: 45 cooling products to beat the summer heat\\nI tested 9 popular travel pillows but only one offered the ultimate comfort\\nEditors\\' picks\\nEgo\\nSkip Amazon Prime Day and shop 117 of the best competing sales instead\\nI’m flooring it to get these car deals added to my cart ahead of Amazon Prime Day\\n39 products our editors couldn’t stop reaching for in June\\nThese best-tested under-eye patches stand up to puffiness, dark circles, and fine lines\\nI don’t use credit card points to shop for Prime Day. Here’s what I do instead\\nAmerica\\'s best towns\\nShow\\xa0all\\n•\\nVideo\\n2:30\\nCNN\\nVideo\\nVisit the nation’s largest house in this mountain town destination\\n2:30\\nWill Lanzoni/CNN\\nThis ‘magical’ North Carolina mountain retreat is our No. 3 best town to visit\\nDesign for Impact\\nCourtesy Pyri\\nThis pinecone-sized device could transform the fight against wildfires\\nJoe Doucet x Partners\\nWhat if your house changed color with the seasons? This ‘climate-responsive’ paint could make it happen\\nAd Feedback\\nEntertainment and Culture\\nShow\\xa0all\\nBen Symons/Peacock\\n‘Love Island USA’ contestant Cierra Ortega exits show after resurfaced posts cause stir\\nLauryn Hill took to the Essence Festival stage super late and organizers want you to know that wasn’t her fault\\nKelly Osbourne gets engaged at dad Ozzy’s final show\\n‘Keep pumping’: The new dance inspiring Novak Djokovic’s quest for a record-equaling Wimbledon title\\nTravel\\nShow\\xa0all\\nCharlotte Graham/WPA Pool/Getty Images\\nWhy Britain’s royal train is coming to the end of the line after 180 years of service\\n20 of Canada’s best foods (Sorry, Hawaiian pizza did not make the list)\\nThe changes coming to European carry-on rules\\nFor Subscribers\\n‘I will never regret coming’: Amid Israel’s strikes on Iran, a woman traveling solo had to find her way out\\nStyle\\nShow\\xa0all\\nCourtesy Celine\\nNaomi Watts, BTS’ Kim Taehyung and more turn out for Celine fashion show\\nWhat to expect from Paris Haute Couture Week\\nAn ambitious vision of a city built from lava\\nLook of the Week: Marc Jacobs totes a boxed Labubu\\nhealth and wellness\\nTatiana Maksimova/Moment RF/Getty Images\\nThe hidden physical powers that help women outlive men\\nHow to tell if you have a ‘dopamine deficit’ and what you can do to reset\\nThis overlooked aspect of fitness affects everything\\nThe link between cancer and exercise that patients should know\\nSpace and Science\\nShow\\xa0all\\nESA/Las Cumbres Observatory\\nA third interstellar object has been observed flying through our solar system\\n125,000-year-old ‘fat factory’ run by Neanderthals discovered in Germany\\nZombie fungus-infected fly that likely lived among dinosaurs is preserved in amber\\nThe first genome sequenced from ancient Egypt reveals surprising ancestry, scientists say\\nBusiness\\nShow\\xa0all\\nCostfoto/NurPhoto/Getty Images\\nWhat’s the point of all these tariffs, again?\\nChina sidesteps question on TikTok after Trump says close to deal\\nThere are hundreds of temporary tariff-free zones — and they’re in the US\\nLatest in Markets\\nDOW\\nS&P 500\\nNASDAQ\\nUS\\nShow\\xa0all\\nWRAL\\nChantal triggered deadly flash flooding in North Carolina. Now it’s bringing rain to the Mid-Atlantic\\nUS children are much more likely to die than kids in similar countries, study finds\\nOfficer shot and man with rifle killed after exchange of fire at Border Patrol facility in Texas\\nWhat we know about the search for a man accused of killing his daughters\\nWorld\\nShow\\xa0all\\nIDF\\nIsrael bombs Houthis in Yemen after rebels attack commercial ship for first time in months\\n11 dead and hundreds arrested in Kenya’s anti-government protests, police says\\nSuriname parliament elects first female president\\nVideo\\nIndonesia’s Mount Lewotobi Laki Laki volcano erupts\\n0:38\\nBleacher Report\\nShow\\xa0all\\nNovak Djokovic reaches 16th Wimbledon quarterfinal\\nDetails from massive 7-team KD trade revealed\\n$700M MLB star is All-Star snub\\nCowboys to support Texas Hill Country after flooding\\nWatch: One of the fastest MLB outfield throws ever recorded\\nPaid Content\\nMore from CNN\\nMORE POLITICS\\nShow\\xa0all\\nStephanie Lecocq/Pool/Reuters\\nTrump admin to revoke foreign terrorist organization designation for group led by Syria’s interim president\\nOrlando Sierra/AFP/Getty Images\\nTrump admin moves to stop form of humanitarian relief for Nicaraguans and Hondurans in US\\n•\\nAnalysis\\nAnalysis\\nLeah Millis/Reuters\\nAnalysis\\nDemocrats try to spoil Trump’s victory party by slamming his greatest domestic win\\nLife, But Better\\n•\\nVideo\\n3:12\\nCNN’s Randi Kaye sits down with a neurologist at University of Michigan\\'s Sleep Disorders Center to learn how modern habits are breaking our natural sleep-wake cycles and gets a few tips on how to reset and realign.\\nCNN\\nVideo\\n5 things we still get wrong about sleep, according to expert\\n3:12\\n•\\nVideo\\n3:32\\nCNN\\nVideo\\n‘Let’s leave the country’: A devastating loss led to a new life in Costa Rica\\n3:32\\n•\\nVideo\\n2:48\\nYuliia  Kokosha/Moment RF/Getty Images\\nVideo\\nResearchers say some produce carries more pesticides than others. Here are 3 things to know\\n2:48\\nAd Feedback\\nPaid Partner Content\\nCNN Games + Quizzes\\nShow\\xa0all\\n•\\nToday\\'s crossword\\nToday\\'s crossword\\nCNN\\nToday\\'s crossword\\nNo pencil or eraser required\\n•\\nSudoblock\\nSudoblock\\nCNN\\nSudoblock\\nSudoku + Blocks = addictive tile-matching puzzle\\n•\\nJumble Crossword\\nJumble Crossword\\nCNN\\nJumble Crossword\\nTest your smarts with this scrambled word game\\n•\\nWeekly news quiz\\nWeekly news quiz\\ncnn\\nWeekly news quiz\\nWhat do you remember from the week that was?\\nIn case you missed it\\nCBS/WarnerBros./Disney\\n‘Cool’ people tend to have these six things in common, study finds\\nAn international team of researchers may have just cracked the code for what makes someone “cool.”\\nPennsylvania man accused of beheading father and posting video of his severed head to stand trial\\nMother of killed Israeli hostage in battle to have a grandchild with his harvested sperm\\n‘Mushroom murder’ trial: Jury finds cook deliberately killed lunch guests with poisoned Beef Wellington\\nBodies of all 7 missing people found at a California fireworks warehouse that exploded\\nEruption of Indonesian volcano sends ash 11 miles high\\nThe behind-the-scenes story of a WNBA controversy: Caitlin Clark, DiJonai Carrington and a journalist’s questions\\nMore than 3 decades ago, Sean ‘Diddy’ Combs fought allegations surrounding charity event in which 9 died\\nSubscribe\\nSign in\\nMy Account\\nSettings\\nNewsletters\\nTopics you follow\\nSign out\\nYour CNN account\\nSign in to your CNN account\\nLive TV\\nListen\\nWatch\\nUS\\nCrime + Justice\\nWorld\\nAfrica\\nAmericas\\nAsia\\nAustralia\\nChina\\nEurope\\nIndia\\nMiddle East\\nUnited Kingdom\\nPolitics\\nTrump\\nFacts First\\nCNN Polls\\n2025 Elections\\nBusiness\\nTech\\nMedia\\nCalculators\\nVideos\\nMarkets\\nPre-markets\\nAfter-Hours\\nFear & Greed\\nInvesting\\nMarkets Now\\nNightcap\\nHealth\\nLife, But Better\\nFitness\\nFood\\nSleep\\nMindfulness\\nRelationships\\nEntertainment\\nMovies\\nTelevision\\nCelebrity\\nTech\\nInnovate\\nForeseeable Future\\nMission: Ahead\\nWork Transformed\\nInnovative Cities\\nStyle\\nArts\\nDesign\\nFashion\\nArchitecture\\nLuxury\\nBeauty\\nVideo\\nTravel\\nDestinations\\nFood & Drink\\nStay\\nNews\\nVideos\\nSports\\nPro Football\\nCollege Football\\nBasketball\\nBaseball\\nSoccer\\nOlympics\\nHockey\\nScience\\nSpace\\nLife\\nUnearthed\\nClimate\\nSolutions\\nWeather\\nWeather\\nVideo\\nClimate\\nUkraine-Russia War\\nIsrael-Hamas War\\nWatch\\nLive TV\\nCNN Headlines\\nCNN Shorts\\nShows A-Z\\nCNN10\\nCNN Max\\nCNN TV Schedules\\nFlashDocs\\nListen\\nCNN 5 Things\\nChasing Life with Dr. Sanjay Gupta\\nThe Assignment with Audie Cornish\\nOne Thing\\nTug of War\\nCNN Political Briefing\\nThe Axe Files\\nAll There Is with Anderson Cooper\\nAll CNN Audio podcasts\\nCNN Underscored\\nElectronics\\nFashion\\nBeauty\\nHealth & Fitness\\nHome\\nReviews\\nDeals\\nGifts\\nTravel\\nOutdoors\\nPets\\nAmazon Prime Day\\nGames\\nDaily Crossword\\nJumble Crossword\\nSudoblock\\nSudoku\\n5 Things Quiz\\nAbout CNN\\nSubscribe\\nPhotos\\nInvestigations\\nCNN Profiles\\nCNN Leadership\\nCNN Newsletters\\nWork for CNN\\nWatch\\nListen\\nLive TV\\nFollow CNN\\nSubscribe\\nSign in\\nMy Account\\nSettings\\nNewsletters\\nTopics you follow\\nSign out\\nYour CNN account\\nSign in to your CNN account\\nTerms of Use\\nPrivacy Policy\\nAd Choices\\nAccessibility & CC\\nAbout\\nSubscribe\\nNewsletters\\nTranscripts\\nHelp Center\\n© 2025 Cable News Network. A Warner Bros. Discovery Company. All Rights Reserved.\\nCNN Sans ™ & © 2016 Cable News Network.\\n\\n\\n\\nabout page\\nWebpage Title:\\nABOUT CNN DIGITAL | CNN\\nWebpage Contents:\\nClose icon\\nUS\\nWorld\\nPolitics\\nBusiness\\nHealth\\nEntertainment\\nStyle\\nTravel\\nSports\\nScience\\nClimate\\nWeather\\nUkraine-Russia War\\nIsrael-Hamas War\\nUnderscored\\nAmazon Prime Day\\nGames\\nMore\\nUS\\nWorld\\nPolitics\\nBusiness\\nHealth\\nEntertainment\\nStyle\\nTravel\\nSports\\nScience\\nClimate\\nWeather\\nUkraine-Russia War\\nIsrael-Hamas War\\nUnderscored\\nAmazon Prime Day\\nGames\\nWatch\\nListen\\nLive TV\\nSubscribe\\nSign in\\nMy Account\\nSettings\\nNewsletters\\nTopics you follow\\nSign out\\nYour CNN account\\nSign in to your CNN account\\nSign in\\nMy Account\\nSettings\\nNewsletters\\nTopics you follow\\nSign out\\nYour CNN account\\nSign in to your CNN account\\nLive TV\\nListen\\nWatch\\nEdition\\nUS\\nInternational\\nArabic\\nEspañol\\nEdition\\nUS\\nInternational\\nArabic\\nEspañol\\nUS\\nCrime + Justice\\nWorld\\nAfrica\\nAmericas\\nAsia\\nAustralia\\nChina\\nEurope\\nIndia\\nMiddle East\\nUnited Kingdom\\nPolitics\\nTrump\\nFacts First\\nCNN Polls\\n2025 Elections\\nBusiness\\nTech\\nMedia\\nCalculators\\nVideos\\nMarkets\\nPre-markets\\nAfter-Hours\\nFear & Greed\\nInvesting\\nMarkets Now\\nNightcap\\nHealth\\nLife, But Better\\nFitness\\nFood\\nSleep\\nMindfulness\\nRelationships\\nEntertainment\\nMovies\\nTelevision\\nCelebrity\\nTech\\nInnovate\\nForeseeable Future\\nMission: Ahead\\nWork Transformed\\nInnovative Cities\\nStyle\\nArts\\nDesign\\nFashion\\nArchitecture\\nLuxury\\nBeauty\\nVideo\\nTravel\\nDestinations\\nFood & Drink\\nStay\\nVideos\\nSports\\nPro Football\\nCollege Football\\nBasketball\\nBaseball\\nSoccer\\nOlympics\\nHockey\\nScience\\nSpace\\nLife\\nUnearthed\\nClimate\\nSolutions\\nWeather\\nWeather\\nVideo\\nClimate\\nUkraine-Russia War\\nIsrael-Hamas War\\nWatch\\nLive TV\\nCNN Headlines\\nCNN Shorts\\nShows A-Z\\nCNN10\\nCNN Max\\nCNN TV Schedules\\nFlashDocs\\nListen\\nCNN 5 Things\\nChasing Life with Dr. Sanjay Gupta\\nThe Assignment with Audie Cornish\\nOne Thing\\nTug of War\\nCNN Political Briefing\\nThe Axe Files\\nAll There Is with Anderson Cooper\\nAll CNN Audio podcasts\\nCNN Underscored\\nElectronics\\nFashion\\nBeauty\\nHealth & Fitness\\nHome\\nReviews\\nDeals\\nGifts\\nTravel\\nOutdoors\\nPets\\nAmazon Prime Day\\nGames\\nDaily Crossword\\nJumble Crossword\\nSudoblock\\nSudoku\\n5 Things Quiz\\nAbout CNN\\nSubscribe\\nPhotos\\nInvestigations\\nCNN Profiles\\nCNN Leadership\\nCNN Newsletters\\nWork for CNN\\nFollow CNN\\nAbout CNN Worldwide\\nCNN Worldwide is the most honored brand in cable news, reaching more individuals on television and online than any other cable news organization in the United States.\\nGlobally, people across the world can watch CNN International, which is widely distributed in over 200 countries and territories. CNN Digital is the #1 online news\\ndestination, with more unique visitors than any other news source. CNN’s award-winning portfolio includes non-scripted programming from CNN Original Series and\\nCNN Films for broadcast, streaming and distribution across multiple platforms. CNN programming can be found on CNN, CNN International and CNN en Español channels,\\non the CNN Originals hub on discovery+, on Max and for pay TV subscription via CNN.com, CNN apps and cable operator platforms. Additionally, CNN Newsource is\\nthe world’s most extensively utilized news service partnering with over 1,000 local and international news organizations around the world. CNN is a division of Warner Bros.\\nDiscovery.\\nCNN’s Mission\\nTo Inform, Engage and Empower the World\\nWe are truth-seekers and storytellers.\\nWe are journalists, designers and technologists, united by a mission to inform, engage and empower the world.\\nWe bear witness to history as it unfolds and explain not just what happened, but why, and what it means to you.\\nOur products and platforms take you to the farthest corners of the world, and they bring the world to you, delivering content and services that enrich your lives, your families and your communities.\\nWe are available on more screens in more places than any other news source.\\nWe stand for excellence in our journalism and our products.\\nWe are committed to serving you.\\nWe are CNN.\\nWhat’s On\\nThe full rundown of all\\nCNN daily programming\\n.\\nWho’s On\\nBios on all of\\nCNN’s anchors, correspondents and executives.\\nCNN’s Parent Company\\nWarner Bros. Discovery, Inc.\\nCNN AI Editorial Guiding Principles\\nWe are committed to the utmost journalistic integrity and accuracy\\nAny use of AI – generative or otherwise – must adhere to CNN’s values and must not undermine the trust audiences have in our journalism.\\nAccuracy and fair representation will remain our top priority. We will collaborate with organizations that have similar AI ethical values.\\nWe are innovators and experimenters\\nWe are a company with a legacy of using new technologies to advance our journalism.\\nWe will invest in AI technology to improve our user experience, boost productivity, explore new creative opportunities, and combat misinformation and disinformation.\\nWe have human oversight and guardrails\\nOur employees have oversight and responsibility for the AI systems and tools used, and the content they produce.\\nWe undertake rigorous due diligence to evaluate our internally built tools and potential partners to ensure they adhere to both CNN and Warner Bros. Discovery’s AI principles.\\nWe are transparent\\nWe clearly signify to our users and audiences when they are seeing, hearing or reading AI content.\\nWe are committed to fair depiction and inclusion\\nWe are committed to fair depiction and inclusion of every kind of perspective when building or utilizing innovative technologies such as AI tools and services.\\nWe believe the content created by our world-class journalists is unparalleled and valuable\\nAI presents new opportunities to both protect the intellectual property of our content and commercially support our business.\\nServices\\nCNN Mobile Services\\nCNN.com content is now available through your mobile phone. With CNN mobile services, you can read up-to-the-minute news stories with color photos, watch live, streaming video or the latest Video On Demand clips and receive CNN Breaking News text alerts. No matter where your on-the-go lifestyle takes you, CNN brings the news directly to you.\\nE-mail Newsletters\\nBe the first to know with a variety of e-mail news services. Receiving breaking news alerts, delivered straight to your e-mail address. Follow the latest news on politics, technology, health or the topics that interest you most. Or stay informed on what’s coming up on your favorite CNN TV and Headline News programs.\\nCNN offers e-mail updates as numerous and diverse as your tastes.\\nRegister now\\nand select from the various e-mails.\\nSubmit a Pitch or Feedback\\nHave a story idea? Click Here\\nHave something to say? Click Here\\nLegal Terms and Conditions\\nCNN Interactive Service Agreement\\nView the terms of the\\nCNN Interactive Services Agreement\\n.\\nPrivacy Statement\\nTo better protect your privacy, we provide this notice explaining our\\nonline information practices\\nand the choices you can make about the way your information is collected and used:\\nCNN Privacy Statement.\\nCNN’s Reprint and Copyright Information\\nCopyrights and Copyright Agent. CNN respects the rights of all copyright holders and in this regard, CNN has adopted and implemented a policy that provides for the termination in\\nappropriate circumstances of subscribers and account holders who infringe the rights of copyright holders. If you believe that your work has been copied in a way that constitutes\\ncopyright infringement, please provide CNN’s Copyright Agent the following information required by the Online Copyright Infringement Liability Limitation Act of the Digital\\nMillennium Copyright Act, 17 U.S.C. ¤ 512:\\nA physical or electronic signature of a person authorized to act on behalf of the owner of an exclusive right that is allegedly infringed.\\nIdentification of the copyright work claimed to have been infringed, or, if multiple copyrighted works at a single online site are covered by a single notification, a representative list of such works at that site.\\nInformation reasonably sufficient to permit us to contact the complaining party.\\nA statement that the information in the notification is accurate, and under penalty of perjury, that the complaining party is authorized to act on behalf of the owner of an exclusive right that is allegedly infringed.\\nIdentification of the copyright work claimed to have been infringed, or, if multiple copyrighted works at a single online site are covered by a single notification, a representative list of such works at that site.\\nIdentification of the material that is claimed to be infringing or to be the subject of infringing activity and that is to be removed or access to which is to be disabled, and information reasonably sufficient to permit us to locate the material.\\nInformation reasonably sufficient to permit us to contact the complaining party.\\nA statement that the complaining party has a good-faith belief that use of the material in the manner complained of is not authorized by the copyright owner, its agent, or the law.\\nA statement that the information in the notification is accurate, and under penalty of perjury, that the complaining party is authorized to act on behalf of the owner of an exclusive right that is allegedly infringed.\\nInformation reasonably sufficient to permit us to contact the complaining party.\\nA statement that the complaining party has a good-faith belief that use of the material in the manner complained of is not authorized by the copyright owner, its agent, or the law.\\nA statement that the information in the notification is accurate, and under penalty of perjury, that the complaining party is authorized to act on behalf of the owner of an exclusive right that is allegedly infringed.\\nIdentification of the material that is claimed to be infringing or to be the subject of infringing activity and that is to be removed or access to which is to be disabled, and information reasonably sufficient to permit us to locate the material.\\nInformation reasonably sufficient to permit us to contact the complaining party.\\nA statement that the complaining party has a good-faith belief that use of the material in the manner complained of is not authorized by the copyright owner, its agent, or the law.\\nA statement that the information in the notification is accurate, and under penalty of perjury, that the complaining party is authorized to act on behalf of the owner of an exclusive right that is allegedly infringed.\\nInformation reasonably sufficient to permit us to contact the complaining party.\\nA statement that the complaining party has a good-faith belief that use of the material in the manner complained of is not authorized by the copyright owner, its agent, or the law.\\nA statement that the information in the notification is accurate, and under penalty of perjury, that the complaining party is authorized to act on behalf of the owner of an exclusive right that is allegedly infringed.\\nA statement that the complaining party has a good-faith belief that use of the material in the manner complained of is not authorized by the copyright owner, its agent, or the law.\\nA statement that the information in the notification is accurate, and under penalty of perjury, that the complaining party is authorized to act on behalf of the owner of an exclusive right that is allegedly infringed.\\nA statement that the information in the notification is accurate, and under penalty of perjury, that the complaining party is authorized to act on behalf of the owner of an exclusive right that is allegedly infringed.\\nCNN’s Copyright Agent for notice of claims of copyright infringement on or regarding this site can be reached by sending an email to\\ncopyrightagent@turner.com\\nor writing to:\\nCopyright Agent\\n1050 Techwood Dr.\\nAtlanta, GA 30318\\nPhone: (404) 878-2276\\nFax: (404) 827-1995\\nEmail:\\ncopyrightagent@turner.com\\nSubscribe\\nSign in\\nMy Account\\nSettings\\nNewsletters\\nTopics you follow\\nSign out\\nYour CNN account\\nSign in to your CNN account\\nLive TV\\nListen\\nWatch\\nUS\\nCrime + Justice\\nWorld\\nAfrica\\nAmericas\\nAsia\\nAustralia\\nChina\\nEurope\\nIndia\\nMiddle East\\nUnited Kingdom\\nPolitics\\nTrump\\nFacts First\\nCNN Polls\\n2025 Elections\\nBusiness\\nTech\\nMedia\\nCalculators\\nVideos\\nMarkets\\nPre-markets\\nAfter-Hours\\nFear & Greed\\nInvesting\\nMarkets Now\\nNightcap\\nHealth\\nLife, But Better\\nFitness\\nFood\\nSleep\\nMindfulness\\nRelationships\\nEntertainment\\nMovies\\nTelevision\\nCelebrity\\nTech\\nInnovate\\nForeseeable Future\\nMission: Ahead\\nWork Transformed\\nInnovative Cities\\nStyle\\nArts\\nDesign\\nFashion\\nArchitecture\\nLuxury\\nBeauty\\nVideo\\nTravel\\nDestinations\\nFood & Drink\\nStay\\nNews\\nVideos\\nSports\\nPro Football\\nCollege Football\\nBasketball\\nBaseball\\nSoccer\\nOlympics\\nHockey\\nScience\\nSpace\\nLife\\nUnearthed\\nClimate\\nSolutions\\nWeather\\nWeather\\nVideo\\nClimate\\nUkraine-Russia War\\nIsrael-Hamas War\\nWatch\\nLive TV\\nCNN Headlines\\nCNN Shorts\\nShows A-Z\\nCNN10\\nCNN Max\\nCNN TV Schedules\\nFlashDocs\\nListen\\nCNN 5 Things\\nChasing Life with Dr. Sanjay Gupta\\nThe Assignment with Audie Cornish\\nOne Thing\\nTug of War\\nCNN Political Briefing\\nThe Axe Files\\nAll There Is with Anderson Cooper\\nAll CNN Audio podcasts\\nCNN Underscored\\nElectronics\\nFashion\\nBeauty\\nHealth & Fitness\\nHome\\nReviews\\nDeals\\nGifts\\nTravel\\nOutdoors\\nPets\\nAmazon Prime Day\\nGames\\nDaily Crossword\\nJumble Crossword\\nSudoblock\\nSudoku\\n5 Things Quiz\\nAbout CNN\\nSubscribe\\nPhotos\\nInvestigations\\nCNN Profiles\\nCNN Leadership\\nCNN Newsletters\\nWork for CNN\\nWatch\\nListen\\nLive TV\\nFollow CNN\\nSubscribe\\nSign in\\nMy Account\\nSettings\\nNewsletters\\nTopics you follow\\nSign out\\nYour CNN account\\nSign in to your CNN account\\nTerms of Use\\nPrivacy Policy\\nAd Choices\\nAccessibility & CC\\nAbout\\nSubscribe\\nNewsletters\\nTranscripts\\nHelp Center\\n© 2025 Cable News Network. A Warner Bros. Discovery Company. All Rights Reserved.\\nCNN Sans ™ & © 2016 Cable News Network.\\n\\n\\n\\ncareers page\\nWebpage Title:\\nCNN Jobs | Warner Bros. Discovery\\nWebpage Contents:\\nCNN Jobs\\nNo results for\\n\"${pageStateData.searchKeyword}\"\\nNo results for\\n\"${pageStateData.placeVal}\"\\nWould you like to consider the job categories below?\\nOur Teams\\nWhere will your story take you? Learn more about our teams\\n\\u200b\\u200b\\u200b\\u200b\\u200b\\u200b\\u200band find your next great role.\\nConsumer Products\\nCorporate & Administrative\\nCreative, Content & Editorial\\nData & Research\\nEarly Careers\\nExecutive\\nFinance & Accounting\\nGame Development\\nHuman Resources\\nLegal & Business Affairs\\nMarketing & Communications\\nProduct Management\\nProduction\\nSales & Distribution\\nStudio Operations\\nTechnology\\nExplore our opportunities across CNN, CNN Digital, HLN, CNN International, CNN en Español\\xa0and join the most trusted and recognized name in news.\\n\\n\\n\\ncompany page\\nWebpage Title:\\nCNN Profiles | CNN\\nWebpage Contents:\\nCNN values your feedback\\n1. How relevant is this ad to you?\\n2. Did you encounter any technical issues?\\nVideo player was slow to load content\\nVideo content never loaded\\nAd froze or did not finish loading\\nVideo content did not start after ad\\nAudio on ad was too loud\\nOther issues\\nAd never loaded\\nAd prevented/slowed the page from loading\\nContent moved around while ad loaded\\nAd was repetitive to ads I\\'ve seen previously\\nOther issues\\nCancel\\nSubmit\\nThank You!\\nYour effort and contribution in providing this feedback is much\\n                                        appreciated.\\nClose\\nAd Feedback\\nClose icon\\nVideos\\nCNN Headlines\\nCNN Shorts\\nTV Shows A-Z\\nCNN 10\\nCNN Max\\nTV Schedule\\nFlashDocs\\nMore\\nCNN Headlines\\nCNN Shorts\\nTV Shows A-Z\\nCNN 10\\nCNN Max\\nTV Schedule\\nFlashDocs\\nListen\\nLive TV\\nSubscribe\\nSign in\\nMy Account\\nSettings\\nNewsletters\\nTopics you follow\\nSign out\\nYour CNN account\\nSign in to your CNN account\\nSign in\\nMy Account\\nSettings\\nNewsletters\\nTopics you follow\\nSign out\\nYour CNN account\\nSign in to your CNN account\\nLive TV\\nListen\\nCNN Headlines\\nCNN Shorts\\nTV Shows A-Z\\nCNN 10\\nCNN Max\\nTV Schedule\\nFlashDocs\\nFollow CNN\\nUS\\nCrime + Justice\\nWorld\\nAfrica\\nAmericas\\nAsia\\nAustralia\\nChina\\nEurope\\nIndia\\nMiddle East\\nUnited Kingdom\\nPolitics\\nTrump\\nFacts First\\nCNN Polls\\n2025 Elections\\nBusiness\\nTech\\nMedia\\nCalculators\\nVideos\\nMarkets\\nPre-markets\\nAfter-Hours\\nFear & Greed\\nInvesting\\nMarkets Now\\nNightcap\\nHealth\\nLife, But Better\\nFitness\\nFood\\nSleep\\nMindfulness\\nRelationships\\nEntertainment\\nMovies\\nTelevision\\nCelebrity\\nTech\\nInnovate\\nForeseeable Future\\nMission: Ahead\\nWork Transformed\\nInnovative Cities\\nStyle\\nArts\\nDesign\\nFashion\\nArchitecture\\nLuxury\\nBeauty\\nVideo\\nTravel\\nDestinations\\nFood & Drink\\nStay\\nVideos\\nSports\\nPro Football\\nCollege Football\\nBasketball\\nBaseball\\nSoccer\\nOlympics\\nHockey\\nScience\\nSpace\\nLife\\nUnearthed\\nClimate\\nSolutions\\nWeather\\nWeather\\nVideo\\nClimate\\nUkraine-Russia War\\nIsrael-Hamas War\\nWatch\\nLive TV\\nCNN Headlines\\nCNN Shorts\\nShows A-Z\\nCNN10\\nCNN Max\\nCNN TV Schedules\\nFlashDocs\\nListen\\nCNN 5 Things\\nChasing Life with Dr. Sanjay Gupta\\nThe Assignment with Audie Cornish\\nOne Thing\\nTug of War\\nCNN Political Briefing\\nThe Axe Files\\nAll There Is with Anderson Cooper\\nAll CNN Audio podcasts\\nCNN Underscored\\nElectronics\\nFashion\\nBeauty\\nHealth & Fitness\\nHome\\nReviews\\nDeals\\nGifts\\nTravel\\nOutdoors\\nPets\\nAmazon Prime Day\\nGames\\nDaily Crossword\\nJumble Crossword\\nSudoblock\\nSudoku\\n5 Things Quiz\\nAbout CNN\\nSubscribe\\nPhotos\\nInvestigations\\nCNN Profiles\\nCNN Leadership\\nCNN Newsletters\\nWork for CNN\\nCNN Profiles\\nFaces of CNN\\n|\\nLeadership\\n|\\nA-Z\\nCNN Profiles A-Z\\nSarah Aarthun\\nMaribel Aber\\nJeremy Freeman\\nNima Ahmed\\nKeith Allen\\nChristiane Amanpour\\nBecky Anderson\\nJeremy Freeman\\nTatiana Arias\\nCNN\\nBarbara Arvanitidis\\nJeremy Freeman\\nZain Asher\\nCNN\\nEmily Atkinson\\nCNN\\nAlexandra Banner\\nDana Bash\\nCNN\\nPaul Begala\\nMelissa Bell\\nCNN\\nJohn Berman\\nJim Bittermann\\nVictor Blackwell\\nJohn Blake\\nCNN\\nJoan\\xa0Biskupic\\nWolf Blitzer\\nCNN\\nKate Bolduan\\nChris Boyette\\nEric Bradner\\nKarol Brinkley\\nJeremy Freeman\\nCatherine Brosseau\\nCNN\\nNicki Brown\\nCNN\\nPamela Brown\\nJeremy Freeman\\nKim Brunhuber\\nTerence Burlij\\nErin Burnett\\nCNN\\nJosh Campbell\\nJason Carroll\\nJean Casarez\\nDavid Chalian\\nJai Lennard\\nMatthew Chance\\nJeremy Freeman\\nNatasha Chen\\nCNN\\nAllison Chinchar\\nStephy Chung\\nRosemary Church\\nCNN\\nLaura Coates\\nMarshall Cohen\\nAdam Cohn\\nStephen Collinson\\nCNN\\nKaitlan Collins\\nKevin Conlon\\nCNN\\nSteve Contorno\\nAnderson Cooper\\nAudie Cornish\\nCNN\\nScott Corley\\nCNN\\nJoão Costa\\nCNN\\nKarla Cripps\\nCNN\\nDavid Culver\\nS.E. Cupp\\nJeremy Freeman\\nAmanda Davies\\nCNN\\nEbony Davis\\nCNN\\nJessica Dean\\nJohn Hooper\\nSarah Dean\\nJeremy Freeman\\nLauren del Valle\\nCurt Devine\\nJeremy Freeman\\nJeremy Diamond\\nJohnita P. Due\\nCNN\\nLisa Eadicicco\\nJeremy Freeman\\nMatt Egan\\nStephanie Elam\\nNima Elbagir\\nHarry Enten\\nJohn Nowak/CNN\\nMeara Erdozain\\nTricia Escobedo\\nJeremy Freeman\\nMcKenna Ewen\\nMark Hill\\nRosa Flores\\nKevin Flower\\nClare Foran\\nTom Foreman\\nDANNY ATWOOD\\nMax Foster\\nJeremy Freeman\\nLisa Respers France\\nJohn Nowak\\nDanny Freeman\\nCNN\\nDianne Gallagher\\nCNN\\nJamie Gangel\\nJeremy Freeman\\nRoxanne Garcia-Bell\\nMichael Chung\\nSteve George\\nJeremy Freeman\\nBrynn Gingras\\nJeremy Freeman\\nEleni Giokos\\nJohn Nowak\\nFrancesca Giuliani Hoffman\\nGlaeser, Katie\\nKatie Glaeser\\nScott Glover\\nHadas Gold\\nCNN\\nBianna Golodryga\\nSandra Gonzalez\\nJeremy Freeman\\nMelissa Gray\\nJeremy Freeman\\nAnnie Grayer\\nBrandon Griggs\\nCNN\\nJackson Grigsby\\nJamie Gumbrecht\\nDr. Sanjay Gupta\\nCNN\\nChuck Hadad\\nSonya Hamasaki\\nJohn Nowak\\nEric Hall\\nCNN\\nJonny Hallam\\nPaula Hancocks\\nSarita Harilela\\nJeremy Freeman\\nDanielle Herman\\nJohn Nowak/CNN\\nKatia Hetter\\nMelanie Hicken\\nCNN\\nMatthew Hilk\\nErica Hill\\nKristen Holmes\\nMichael Holmes\\nCNN\\nHira Humayun\\nKasie Hunt\\nKatie Hunt\\nJeremy Freeman\\nBen Hunte\\nMarnie Hunter\\nSteven Jiang\\nJeremy Freeman\\nOmar Jimenez\\nAndrew Kaczynski\\nBurak Pacacioglu\\nJomana Karadsheh\\nRandi Kaye\\nBrianna Keilar\\nAshley Killough\\nLynda Kinkade\\nJohn King\\nVivian Kuo\\nIvana Kottasová\\nJeremy Freeman\\nKyung Lah\\nEd Lavandera\\nCHOONGHO PARK\\nEllana Lee\\nCNN\\nMJ Lee\\nLauren Lee\\nCNN\\nBrad Lendon\\nDaniel Lewis\\nOren Liebermann\\nMichael Chung\\nKristie Lu Stout\\nCNN\\nSean Lyngaas\\nJohn Hooper\\nChristina Macfarlane\\nJohn Hooper\\nNatasha Maguder\\nChristina Manduley\\nMichael Chung\\nLilit Marcus\\nRene Marsh\\nPhil Mattingly\\nJai Lennard\\nMike McCarthy\\nJeremy Freeman\\nEva McKend\\nEd Meagher\\nJeremy Freeman\\nGianluca Mezzofiore\\nJohn Nowak/CNN\\nBrandon Miller\\nJohn Nowak\\nJohn Miller\\nCNN\\nVeronica Miracle\\nJeremy Freeman\\nVeronica Molina\\nJohn Nowak/CNN\\nHanako Montgomery\\nSarah Moon\\nJeremy Moorhead\\nCNN\\nMark Morales\\nYe Fan\\nVirginia Moseley\\nCNN\\nArtemis Moshtaghian\\nCheri Mossburg\\nJeremy Freeman\\nAlberto Moya\\nCNN\\nPete Muntean\\nJeremy Freeman\\nJim Murphy\\nBarry Neild\\nPaula Newton\\nPatrick Oppmann\\nBob Ortega\\nDonie O’Sullivan\\nCNN\\nSharif Paget\\nNick Paton Walsh\\nCNN\\nGloria Pazmino\\nCNN\\nEvan Perez\\nJeremy Freeman\\nAbby Phillip\\nFrederik Pleitgen\\nJeremy Freeman\\nKatelyn Polantz\\nKatie Polglase\\nJohn Nowak\\nYon Pomrenze\\nJohn Nowak/CNN\\nStefano Pozzebon\\nMark Preston\\nJohn Nowak\\nShimon Prokupecz\\nJeremy Freeman\\nMeghan Pryce\\nMajlie de Puy Kamp\\nRichard Quest\\nJeremy Freeman\\nHannah Rabinowitz\\nJeremy Freeman\\nAnna-Maja Rappard\\nManu Raju\\nElle Reeve\\nCNN\\nHelen Regan\\nCNN\\nKimberly Richardson\\nDon Riddell\\nWill Ripley\\nNic Robertson\\nCNN\\nIvan Rodriguez\\nCNN\\nTaylor Romine\\nRafael Romo\\nJeremy Freeman\\nIsabel Rosales\\nCNN\\nJedd Rosche\\nJOHN NOWAK/CNN\\nPhilip Rucker\\nCNN\\nRichard Roth\\nLauren Said-Moorhouse\\nMostafa Salem\\nCNN\\nBoris Sanchez\\nJeremy Freeman\\nPolo Sandoval\\nDevon M. Sayers\\nKara Scannell\\nAndy Scholes\\nJim Sciutto\\nJohn Hooper\\nClare Sebastian\\nSunlen Serfaty\\nEric Sherling\\nCatherine E. Shoichet\\nCNN\\nSara Sidner\\nJeff Simon\\nJane Sit\\nMichael Smerconish\\nEmily Smith\\nLaura Smith-Spark\\nJeremy Freeman\\nPatrick Snell\\nJohn Hooper\\nIsa Soares\\nJohn Nowak\\nRahel Solomon\\nJeremy Freeman\\nAlta Spells\\nCassie Spodak\\nJeremy Freeman\\nPamela Steffey\\nAnna Stewart\\nJohn Nowak\\nBrian Stelter\\nMarc Stewart\\nCNN\\nVeronica Stracqualursi\\nAshley Strickland\\nRyan Struyk\\nJoe Sutton\\nJake Tapper\\nMelody Taylor\\nNick Thompson\\nBrian Todd\\nCNN\\nDarren Tome\\nCNN\\nAndrew Torgan\\nJai Lennard\\nZahra Ullah\\nLeinz Vales\\nDerek Van Dam\\nCNN\\nSaskya Vandoorne\\nJohn Vause\\nDavid Vigilante\\nZach Wade\\nJeremy Freeman\\nClarissa Ward\\nMichael Chung\\nIvan Watson\\nMichelle Watson\\nCNN\\nAmanda Watts\\nCNN\\nBen Wedeman\\nCNN\\nBill Weir\\nJeremy Freeman\\nFredricka Whitfield\\nJeremy Freeman\\nWhitney Wild\\nCNN\\nBruce Williams\\nDavid Lawrence\\nDaniel Wine\\nCoy Wire\\nChristi Wolf\\nStacey Wolf\\nCNN\\nSusie Xu\\nCNN\\nHolly Yan\\nCNN\\nIsobel Yeung\\nJohn Nowak\\nRyan Young\\nVanessa Yurkevich\\nFareed Zakaria\\nChristina Zdanowicz\\nJeremy Freeman\\nJeff Zeleny\\nJulian Zelizer\\nAd Feedback\\nSubscribe\\nSign in\\nMy Account\\nSettings\\nNewsletters\\nTopics you follow\\nSign out\\nYour CNN account\\nSign in to your CNN account\\nLive TV\\nListen\\nWatch\\nUS\\nCrime + Justice\\nWorld\\nAfrica\\nAmericas\\nAsia\\nAustralia\\nChina\\nEurope\\nIndia\\nMiddle East\\nUnited Kingdom\\nPolitics\\nTrump\\nFacts First\\nCNN Polls\\n2025 Elections\\nBusiness\\nTech\\nMedia\\nCalculators\\nVideos\\nMarkets\\nPre-markets\\nAfter-Hours\\nFear & Greed\\nInvesting\\nMarkets Now\\nNightcap\\nHealth\\nLife, But Better\\nFitness\\nFood\\nSleep\\nMindfulness\\nRelationships\\nEntertainment\\nMovies\\nTelevision\\nCelebrity\\nTech\\nInnovate\\nForeseeable Future\\nMission: Ahead\\nWork Transformed\\nInnovative Cities\\nStyle\\nArts\\nDesign\\nFashion\\nArchitecture\\nLuxury\\nBeauty\\nVideo\\nTravel\\nDestinations\\nFood & Drink\\nStay\\nNews\\nVideos\\nSports\\nPro Football\\nCollege Football\\nBasketball\\nBaseball\\nSoccer\\nOlympics\\nHockey\\nScience\\nSpace\\nLife\\nUnearthed\\nClimate\\nSolutions\\nWeather\\nWeather\\nVideo\\nClimate\\nUkraine-Russia War\\nIsrael-Hamas War\\nWatch\\nLive TV\\nCNN Headlines\\nCNN Shorts\\nShows A-Z\\nCNN10\\nCNN Max\\nCNN TV Schedules\\nFlashDocs\\nListen\\nCNN 5 Things\\nChasing Life with Dr. Sanjay Gupta\\nThe Assignment with Audie Cornish\\nOne Thing\\nTug of War\\nCNN Political Briefing\\nThe Axe Files\\nAll There Is with Anderson Cooper\\nAll CNN Audio podcasts\\nCNN Underscored\\nElectronics\\nFashion\\nBeauty\\nHealth & Fitness\\nHome\\nReviews\\nDeals\\nGifts\\nTravel\\nOutdoors\\nPets\\nAmazon Prime Day\\nGames\\nDaily Crossword\\nJumble Crossword\\nSudoblock\\nSudoku\\n5 Things Quiz\\nAbout CNN\\nSubscribe\\nPhotos\\nInvestigations\\nCNN Profiles\\nCNN Leadership\\nCNN Newsletters\\nWork for CNN\\nWatch\\nListen\\nLive TV\\nFollow CNN\\nSubscribe\\nSign in\\nMy Account\\nSettings\\nNewsletters\\nTopics you follow\\nSign out\\nYour CNN account\\nSign in to your CNN account\\nTerms of Use\\nPrivacy Policy\\nAd Choices\\nAccessibility & CC\\nAbout\\nSubscribe\\nNewsletters\\nTranscripts\\nHelp Center\\n© 2025 Cable News Network. A Warner Bros. Discovery Company. All Rights Reserved.\\nCNN Sans ™ & © 2016 Cable News Network.\\n\\n\\n\\nleadership page\\nWebpage Title:\\nCNN Profiles - CNN Leadership | CNN\\nWebpage Contents:\\nCNN values your feedback\\n1. How relevant is this ad to you?\\n2. Did you encounter any technical issues?\\nVideo player was slow to load content\\nVideo content never loaded\\nAd froze or did not finish loading\\nVideo content did not start after ad\\nAudio on ad was too loud\\nOther issues\\nAd never loaded\\nAd prevented/slowed the page from loading\\nContent moved around while ad loaded\\nAd was repetitive to ads I\\'ve seen previously\\nOther issues\\nCancel\\nSubmit\\nThank You!\\nYour effort and contribution in providing this feedback is much\\n                                        appreciated.\\nClose\\nAd Feedback\\nClose icon\\nVideos\\nCNN Headlines\\nCNN Shorts\\nTV Shows A-Z\\nCNN 10\\nCNN Max\\nTV Schedule\\nFlashDocs\\nMore\\nCNN Headlines\\nCNN Shorts\\nTV Shows A-Z\\nCNN 10\\nCNN Max\\nTV Schedule\\nFlashDocs\\nListen\\nLive TV\\nSubscribe\\nSign in\\nMy Account\\nSettings\\nNewsletters\\nTopics you follow\\nSign out\\nYour CNN account\\nSign in to your CNN account\\nSign in\\nMy Account\\nSettings\\nNewsletters\\nTopics you follow\\nSign out\\nYour CNN account\\nSign in to your CNN account\\nLive TV\\nListen\\nCNN Headlines\\nCNN Shorts\\nTV Shows A-Z\\nCNN 10\\nCNN Max\\nTV Schedule\\nFlashDocs\\nFollow CNN\\nUS\\nCrime + Justice\\nWorld\\nAfrica\\nAmericas\\nAsia\\nAustralia\\nChina\\nEurope\\nIndia\\nMiddle East\\nUnited Kingdom\\nPolitics\\nTrump\\nFacts First\\nCNN Polls\\n2025 Elections\\nBusiness\\nTech\\nMedia\\nCalculators\\nVideos\\nMarkets\\nPre-markets\\nAfter-Hours\\nFear & Greed\\nInvesting\\nMarkets Now\\nNightcap\\nHealth\\nLife, But Better\\nFitness\\nFood\\nSleep\\nMindfulness\\nRelationships\\nEntertainment\\nMovies\\nTelevision\\nCelebrity\\nTech\\nInnovate\\nForeseeable Future\\nMission: Ahead\\nWork Transformed\\nInnovative Cities\\nStyle\\nArts\\nDesign\\nFashion\\nArchitecture\\nLuxury\\nBeauty\\nVideo\\nTravel\\nDestinations\\nFood & Drink\\nStay\\nVideos\\nSports\\nPro Football\\nCollege Football\\nBasketball\\nBaseball\\nSoccer\\nOlympics\\nHockey\\nScience\\nSpace\\nLife\\nUnearthed\\nClimate\\nSolutions\\nWeather\\nWeather\\nVideo\\nClimate\\nUkraine-Russia War\\nIsrael-Hamas War\\nWatch\\nLive TV\\nCNN Headlines\\nCNN Shorts\\nShows A-Z\\nCNN10\\nCNN Max\\nCNN TV Schedules\\nFlashDocs\\nListen\\nCNN 5 Things\\nChasing Life with Dr. Sanjay Gupta\\nThe Assignment with Audie Cornish\\nOne Thing\\nTug of War\\nCNN Political Briefing\\nThe Axe Files\\nAll There Is with Anderson Cooper\\nAll CNN Audio podcasts\\nCNN Underscored\\nElectronics\\nFashion\\nBeauty\\nHealth & Fitness\\nHome\\nReviews\\nDeals\\nGifts\\nTravel\\nOutdoors\\nPets\\nAmazon Prime Day\\nGames\\nDaily Crossword\\nJumble Crossword\\nSudoblock\\nSudoku\\n5 Things Quiz\\nAbout CNN\\nSubscribe\\nPhotos\\nInvestigations\\nCNN Profiles\\nCNN Leadership\\nCNN Newsletters\\nWork for CNN\\nCNN Profiles\\nFaces of CNN\\n|\\nLeadership\\n|\\nA-Z\\nCNN Leadership\\nAdam Cohn\\nJohnita P. Due\\nAmy Entelis\\nWarner Bros Discovery\\nDavid Leavy\\nYe Fan\\nAlex MacCallum\\nJai Lennard\\nMike McCarthy\\nYe Fan\\nVirginia Moseley\\nCNN\\nPhil Nelson\\nJOHN NOWAK/CNN\\nPhilip Rucker\\nCNN\\nEric Sherling\\nArt Streiber\\nMark Thompson\\nDavid Vigilante\\nYe Fan\\nAlaka Williams\\nAd Feedback\\nSubscribe\\nSign in\\nMy Account\\nSettings\\nNewsletters\\nTopics you follow\\nSign out\\nYour CNN account\\nSign in to your CNN account\\nLive TV\\nListen\\nWatch\\nUS\\nCrime + Justice\\nWorld\\nAfrica\\nAmericas\\nAsia\\nAustralia\\nChina\\nEurope\\nIndia\\nMiddle East\\nUnited Kingdom\\nPolitics\\nTrump\\nFacts First\\nCNN Polls\\n2025 Elections\\nBusiness\\nTech\\nMedia\\nCalculators\\nVideos\\nMarkets\\nPre-markets\\nAfter-Hours\\nFear & Greed\\nInvesting\\nMarkets Now\\nNightcap\\nHealth\\nLife, But Better\\nFitness\\nFood\\nSleep\\nMindfulness\\nRelationships\\nEntertainment\\nMovies\\nTelevision\\nCelebrity\\nTech\\nInnovate\\nForeseeable Future\\nMission: Ahead\\nWork Transformed\\nInnovative Cities\\nStyle\\nArts\\nDesign\\nFashion\\nArchitecture\\nLuxury\\nBeauty\\nVideo\\nTravel\\nDestinations\\nFood & Drink\\nStay\\nNews\\nVideos\\nSports\\nPro Football\\nCollege Football\\nBasketball\\nBaseball\\nSoccer\\nOlympics\\nHockey\\nScience\\nSpace\\nLife\\nUnearthed\\nClimate\\nSolutions\\nWeather\\nWeather\\nVideo\\nClimate\\nUkraine-Russia War\\nIsrael-Hamas War\\nWatch\\nLive TV\\nCNN Headlines\\nCNN Shorts\\nShows A-Z\\nCNN10\\nCNN Max\\nCNN TV Schedules\\nFlashDocs\\nListen\\nCNN 5 Things\\nChasing Life with Dr. Sanjay Gupta\\nThe Assignment with Audie Cornish\\nOne Thing\\nTug of War\\nCNN Political Briefing\\nThe Axe Files\\nAll There Is with Anderson Cooper\\nAll CNN Audio podcasts\\nCNN Underscored\\nElectronics\\nFashion\\nBeauty\\nHealth & Fitness\\nHome\\nReviews\\nDeals\\nGifts\\nTravel\\nOutdoors\\nPets\\nAmazon Prime Day\\nGames\\nDaily Crossword\\nJumble Crossword\\nSudoblock\\nSudoku\\n5 Things Quiz\\nAbout CNN\\nSubscribe\\nPhotos\\nInvestigations\\nCNN Profiles\\nCNN Leadership\\nCNN Newsletters\\nWork for CNN\\nWatch\\nListen\\nLive TV\\nFollow CNN\\nSubscribe\\nSign in\\nMy Account\\nSettings\\nNewsletters\\nTopics you follow\\nSign out\\nYour CNN account\\nSign in to your CNN account\\nTerms of Use\\nPrivacy Policy\\nAd Choices\\nAccessibility & CC\\nAbout\\nSubscribe\\nNewsletters\\nTranscripts\\nHelp Center\\n© 2025 Cable News Network. A Warner Bros. Discovery Company. All Rights Reserved.\\nCNN Sans ™ & © 2016 Cable News Network.\\n\\n\\n\\nnewsletters page\\nWebpage Title:\\nCNN newsletters: Subscribe for news, lifestyle, markets info and more | CNN\\nWebpage Contents:\\nClose icon\\nUS\\nWorld\\nPolitics\\nBusiness\\nHealth\\nEntertainment\\nStyle\\nTravel\\nSports\\nUnderscored\\nMore\\nUS\\nWorld\\nPolitics\\nBusiness\\nHealth\\nEntertainment\\nStyle\\nTravel\\nSports\\nUnderscored\\nWatch\\nListen\\nLive TV\\nSubscribe\\nSign in\\nMy Account\\nSettings\\nNewsletters\\nTopics you follow\\nSign out\\nYour CNN account\\nSign in to your CNN account\\nSign in\\nMy Account\\nSettings\\nNewsletters\\nTopics you follow\\nSign out\\nYour CNN account\\nSign in to your CNN account\\nLive TV\\nListen\\nWatch\\nEdition\\nUS\\nInternational\\nArabic\\nEspañol\\nEdition\\nUS\\nInternational\\nArabic\\nEspañol\\nUS\\nCrime + Justice\\nWorld\\nAfrica\\nAmericas\\nAsia\\nAustralia\\nChina\\nEurope\\nIndia\\nMiddle East\\nUnited Kingdom\\nPolitics\\nTrump\\nFacts First\\nCNN Polls\\n2025 Elections\\nBusiness\\nTech\\nMedia\\nCalculators\\nVideos\\nMarkets\\nPre-markets\\nAfter-Hours\\nFear & Greed\\nInvesting\\nMarkets Now\\nNightcap\\nHealth\\nLife, But Better\\nFitness\\nFood\\nSleep\\nMindfulness\\nRelationships\\nEntertainment\\nMovies\\nTelevision\\nCelebrity\\nTech\\nInnovate\\nForeseeable Future\\nMission: Ahead\\nWork Transformed\\nInnovative Cities\\nStyle\\nArts\\nDesign\\nFashion\\nArchitecture\\nLuxury\\nBeauty\\nVideo\\nTravel\\nDestinations\\nFood & Drink\\nStay\\nVideos\\nSports\\nPro Football\\nCollege Football\\nBasketball\\nBaseball\\nSoccer\\nOlympics\\nHockey\\nScience\\nSpace\\nLife\\nUnearthed\\nClimate\\nSolutions\\nWeather\\nWeather\\nVideo\\nClimate\\nUkraine-Russia War\\nIsrael-Hamas War\\nWatch\\nLive TV\\nCNN Headlines\\nCNN Shorts\\nShows A-Z\\nCNN10\\nCNN Max\\nCNN TV Schedules\\nFlashDocs\\nListen\\nCNN 5 Things\\nChasing Life with Dr. Sanjay Gupta\\nThe Assignment with Audie Cornish\\nOne Thing\\nTug of War\\nCNN Political Briefing\\nThe Axe Files\\nAll There Is with Anderson Cooper\\nAll CNN Audio podcasts\\nCNN Underscored\\nElectronics\\nFashion\\nBeauty\\nHealth & Fitness\\nHome\\nReviews\\nDeals\\nGifts\\nTravel\\nOutdoors\\nPets\\nAmazon Prime Day\\nGames\\nDaily Crossword\\nJumble Crossword\\nSudoblock\\nSudoku\\n5 Things Quiz\\nAbout CNN\\nSubscribe\\nPhotos\\nInvestigations\\nCNN Profiles\\nCNN Leadership\\nCNN Newsletters\\nWork for CNN\\nFollow CNN\\nCNN Newsletters\\nCNN News, delivered. Select from our newsletters below and enter your email to sign up.\\nYou\\'re logged in as {emailAddress}. Manage your newsletter subscriptions here.\\nDaily\\nBreaking News\\nBe the first to know about the biggest stories as they break. Sign up for breaking news email alerts from CNN.\\nDaily\\nFive Things AM\\nWe’ll summarize five stories you need to know before starting your day.\\nDaily\\nFive Things PM\\nWe recap the most fascinating stories to end your day on a positive note.\\nWeekly\\nFive Good Things\\nGet inspired each week with the five most uplifting stories curated by the 5 Things team.\\nWeekly\\nFive Things Sunday\\nPrepare for what’s next with a look at the big stories shaping up for the week ahead.\\nWeekly\\nThe Results are In with Dr. Sanjay Gupta\\nDon\\'t miss the latest expert advice, medical advancements and inspiring techniques to live a healthier, happier and longer life.\\nThroughout the week\\nReliable Sources\\nCNN’s Reliable Sources examines the information economy, chronicling the evolving media landscape in a digest with uncompromising reporting and analysis.\\nDaily Monday - Friday\\nWhat Matters\\nThe American system of government has been challenged to deal with a divided country. In this time of political, cultural and economic upheaval, we’re trying to connect the dots. We’ll boil down What Matters and deliver it straight to your inbox.\\nThursdays\\nMeanwhile in America\\nA weekly analysis of US politics for global readers. We’ll explain how we got here, what it means and where America and the world are heading next.\\nWeekly\\nMeanwhile in China\\nCNN’s reporters in Hong Kong, Beijing and around the world bring you a weekly update on the latest news you need to know about China’s rise, analysis on what it means for the world, and predictions on what could happen next.\\nDaily Sunday - Friday\\nFareed\\'s Global Briefing\\nInsights, analysis and must reads from CNN\\'s Fareed Zakaria and the Global Public Square team.\\nDaily Monday - Thursday\\nCNN Business Nightcap\\nWe read all day so you don’t have to. Sign up for CNN Business’ nightly newsletter for the top stories you need to know.\\n3X Weekly\\nCNN Underscored\\nCheck out reviews and recommendations for everything from tech to home decor to style and beauty products. CNN Underscored is separate from CNN editorial.\\nWeekly\\nWonder Theory\\nExplore the universe with news on fascinating discoveries, daring expeditions, breakthrough advancements and more with CNN’s science newsletter.\\nDaily\\nArabic Breaking News\\nArabic language breaking news alerts, in your inbox.\\nDaily\\nCNN en Español: Alertas\\nCuando sucede algo importante en el mundo, queremos saberlo lo antes posible. CNN en Español te envía las noticias a tu correo electrónico para que te enteres primero.\\nDaily Monday - Friday\\nCNN en Español: Cinco Cosas\\nPonte al día cada mañana recibiendo las noticias de CNN en tu correo electrónico. Suscríbete a nuestro newsletter 5 Cosas.\\nWeekly\\nUnlocking the World\\nCNN Travel is your key to unlocking a world in flux. Get news about destinations opening and closing, stories that inspire future adventure, plus the latest on aviation, food and drink, where to stay and other travel developments. Delivered weekly.\\nMulti-part Series\\nUnlocking Italy\\nCNN Travel’s eight-part newsletter series (with a bonus finale) adds a slice of dolce vita to your weekends. Get insider intel on Italy’s best loved destinations, and follow our guidance to the lesser-known regions to plan your ultimate Italy trip.\\nmultipart series\\nUnlocking Mexico\\nCNN Travel’s four-part newsletter series curates the choices in a country with deep history and a colorful cultural heritage to give you a taste of the superlatives.\\nmultipart series\\nCNN en Español: Unlocking Mexico\\nEl newsletter de cuatro entregas de CNN Viajes, “Unlocking México”, presenta una selección de opciones en un país con una historia profunda y un patrimonio cultural vibrante para ofrecerte una probada de lo más excepcional.\\nOccasional\\nWeather Brief\\nStay updated on extreme weather. Sign up for email alerts from CNN meteorologists and reporters in the field.\\nDaily Sunday - Thursday\\nCNN 10\\nSign up for access to our 10-minute newscast designed for students. Plus we’ll send you our weekly student news quiz.\\nseven part series\\nLife, But Greener\\nThis limited newsletter series uses data and science to guide you on lifestyle changes to minimize your personal role in the climate crisis – and reduce your eco-anxiety.\\nMulti-part Series\\nSleep, But Better\\nWant the best sleep of your life? Sign up for our newsletter series for helpful hints to achieve better sleep.\\nMulti-part Series\\nFitness, But Better\\nEase into a healthy routine with this seven-part fitness guide, backed by experts.\\nSix Part Series\\nStress, But Less\\nChange your relationship with stress. Our six-part newsletter guide will inform and inspire you to reduce stress while learning how to harness it.\\nEight Part Series\\nEat, But Better\\nThis eight-part newsletter series guides you in a delicious expert-backed eating lifestyle that will boost your health for life.\\nWeekly\\nLife, But Better\\nGet inspired by a roundup on living well, made simple. This newsletter is CNN’s essential source for information and tools designed to improve your well-being.\\nmultipart series\\nAdulthood, But Better\\nThis multipart newsletter series helps you make more informed decisions around personal finance, career, wellness and personal connections. Find tips and advice for paying off student loans, negotiating your salary, building credit, and more.\\nWeekly\\nWatch CNN\\nSign up and stay in the loop, with CNN premieres, special TV events, and new digital and audio offerings.\\nFor Registered Users\\nDaily\\nIn Case You Missed It\\nA daily digest of recommended stories unique to you.\\n2X Weekly\\nCNN Underscored Deals\\nBe the first to know about sales and discounts. We’ll send you exclusive deals, and coupons on Wednesdays and Fridays.\\nWe are unable to subscribe you at this time, please try refreshing the page.\\nMake a selection\\nEnter the email address where you\\'d like to receive these newsletters.\\nAlready have an account?\\nSign\\n            In.\\nBy signing up to newsletters, you agree to our\\nTerms of Use\\nand acknowledge the\\nPrivacy Policy\\n.  CNN and its\\naffiliates\\nmay use your email address to provide updates, ads, and offers.\\nBy entering your email address, you agree to our\\nTerms of Use\\nand acknowledge the\\nPrivacy Policy\\n.  CNN and its\\naffiliates\\nmay use your email address to provide updates, ads, and offers.\\nEmail address\\nSign Up\\nOpt out via the\\nPrivacy Policy\\n.\\nYou\\'re subscribed\\nAdd a password to sign up and manage your newsletter subscriptions in a free CNN account for {EMAIL}\\nAlready have an account?\\nSign\\n          In.\\nPassword\\nUse at least 8 characters\\nUse upper or lower case characters\\nUse one or more numbers\\nSign Up\\nBy creating an account, you agree to the\\nTerms of Use\\nand have read our\\nPrivacy Policy\\n. You understand CNN and its\\naffiliates\\nmay use your email address to provide updates, ads, and offers. You can opt out via the\\nPrivacy Policy\\n.\\nBy creating an account, I agree to the\\nTerms of Use\\nand have read our\\nPrivacy Policy\\n. CNN and its\\naffiliates\\nmay use my email address to provide updates, ads, and offers. I can opt out via the\\nPrivacy Policy\\n.\\nBy creating an account, you agree to the\\nTerms of Use\\nand have read our\\nPrivacy Policy\\n.\\nSign in to your account to subscribe\\nDon\\'t have an account?\\nSign\\n          Up\\n.\\nNot you?\\nEnter a different email address\\nPassword\\nSign In\\nForgot\\n        password?\\nYou\\'re subscribed\\nYou\\'re subscribed\\nThank you for subscribing. You can now\\nsee all your newsletters\\nWe\\'re unable to subscribe you at this time, please try later.\\nSubscribe\\nSign in\\nMy Account\\nSettings\\nNewsletters\\nTopics you follow\\nSign out\\nYour CNN account\\nSign in to your CNN account\\nLive TV\\nListen\\nWatch\\nUS\\nCrime + Justice\\nWorld\\nAfrica\\nAmericas\\nAsia\\nAustralia\\nChina\\nEurope\\nIndia\\nMiddle East\\nUnited Kingdom\\nPolitics\\nTrump\\nFacts First\\nCNN Polls\\n2025 Elections\\nBusiness\\nTech\\nMedia\\nCalculators\\nVideos\\nMarkets\\nPre-markets\\nAfter-Hours\\nFear & Greed\\nInvesting\\nMarkets Now\\nNightcap\\nHealth\\nLife, But Better\\nFitness\\nFood\\nSleep\\nMindfulness\\nRelationships\\nEntertainment\\nMovies\\nTelevision\\nCelebrity\\nTech\\nInnovate\\nForeseeable Future\\nMission: Ahead\\nWork Transformed\\nInnovative Cities\\nStyle\\nArts\\nDesign\\nFashion\\nArchitecture\\nLuxury\\nBeauty\\nVideo\\nTravel\\nDestinations\\nFood & Drink\\nStay\\nNews\\nVideos\\nSports\\nPro Football\\nCollege Football\\nBasketball\\nBaseball\\nSoccer\\nOlympics\\nHockey\\nScience\\nSpace\\nLife\\nUnearthed\\nClimate\\nSolutions\\nWeather\\nWeather\\nVideo\\nClimate\\nUkraine-Russia War\\nIsrael-Hamas War\\nWatch\\nLive TV\\nCNN Headlines\\nCNN Shorts\\nShows A-Z\\nCNN10\\nCNN Max\\nCNN TV Schedules\\nFlashDocs\\nListen\\nCNN 5 Things\\nChasing Life with Dr. Sanjay Gupta\\nThe Assignment with Audie Cornish\\nOne Thing\\nTug of War\\nCNN Political Briefing\\nThe Axe Files\\nAll There Is with Anderson Cooper\\nAll CNN Audio podcasts\\nCNN Underscored\\nElectronics\\nFashion\\nBeauty\\nHealth & Fitness\\nHome\\nReviews\\nDeals\\nGifts\\nTravel\\nOutdoors\\nPets\\nAmazon Prime Day\\nGames\\nDaily Crossword\\nJumble Crossword\\nSudoblock\\nSudoku\\n5 Things Quiz\\nAbout CNN\\nSubscribe\\nPhotos\\nInvestigations\\nCNN Profiles\\nCNN Leadership\\nCNN Newsletters\\nWork for CNN\\nWatch\\nListen\\nLive TV\\nFollow CNN\\nSubscribe\\nSign in\\nMy Account\\nSettings\\nNewsletters\\nTopics you follow\\nSign out\\nYour CNN account\\nSign in to your CNN account\\nTerms of Use\\nPrivacy Policy\\nAd Choices\\nAccessibility & CC\\nAbout\\nSubscribe\\nNewsletters\\nTranscripts\\nHelp Center\\n© 2025 Cable News Network. A Warner Bros. Discovery Company. All Rights Reserved.\\nCNN Sans ™ & © 2016 Cable News Network.\\n\\n'"
      ]
     },
     "execution_count": 11,
     "metadata": {},
     "output_type": "execute_result"
    }
   ],
   "source": [
    "def get_all_details(url):\n",
    "    result = \"Landing page:\\n\"\n",
    "    result += Website(url).get_contents()\n",
    "    links = get_links(url)\n",
    "    print(\"Found links:\", links)\n",
    "    for link in links[\"links\"]:\n",
    "        result += f\"\\n\\n{link['type']}\\n\"\n",
    "        result += Website(link[\"url\"]).get_contents()\n",
    "    return result\n",
    "\n",
    "get_all_details(\"https://www.cnn.com/\")"
   ]
  },
  {
   "cell_type": "code",
   "execution_count": 12,
   "id": "c9cc6e41",
   "metadata": {},
   "outputs": [],
   "source": [
    "system_prompt = \"You are an assistant that analyzes the contents of several relevant pages from a company website \\\n",
    "and creates a short brochure about the company for prospective customers, investors and recruits. Respond in markdown.\\\n",
    "Include details of company culture, customers and careers/jobs if you have the information.\"\n",
    "\n",
    "# Or uncomment the lines below for a more humorous brochure - this demonstrates how easy it is to incorporate 'tone':\n",
    "\n",
    "# system_prompt = \"You are an assistant that analyzes the contents of several relevant pages from a company website \\\n",
    "# and creates a short humorous, entertaining, jokey brochure about the company for prospective customers, investors and recruits. Respond in markdown.\\\n",
    "# Include details of company culture, customers and careers/jobs if you have the information.\""
   ]
  },
  {
   "cell_type": "code",
   "execution_count": 15,
   "id": "d3bcefc7",
   "metadata": {},
   "outputs": [
    {
     "name": "stdout",
     "output_type": "stream",
     "text": [
      "Found links: {'links': [{'type': 'about page', 'url': 'https://www.cnn.com/about'}, {'type': 'careers page', 'url': 'https://careers.wbd.com/cnnjobs'}, {'type': 'profiles page', 'url': 'https://www.cnn.com/profiles'}, {'type': 'leadership page', 'url': 'https://www.cnn.com/profiles/cnn-leadership'}]}\n",
      "You are looking at a company called: CNN\n",
      "Here are the contents of its landing page and other relevant pages; use this information to build a short brochure of the company in markdown.\n",
      "Landing page:\n",
      "Webpage Title:\n",
      "Breaking News, Latest News and Videos | CNN\n",
      "Webpage Contents:\n",
      "CNN values your feedback\n",
      "1. How relevant is this ad to you?\n",
      "2. Did you encounter any technical issues?\n",
      "Video player was slow to load content\n",
      "Video content never loaded\n",
      "Ad froze or did not finish loading\n",
      "Video content did not start after ad\n",
      "Audio on ad was too loud\n",
      "Other issues\n",
      "Ad never loaded\n",
      "Ad prevented/slowed the page from loading\n",
      "Content moved around while ad loaded\n",
      "Ad was repetitive to ads I've seen previously\n",
      "Other issues\n",
      "Cancel\n",
      "Submit\n",
      "Thank You!\n",
      "Your effort and contribution in providing this feedback is much\n",
      "                                        appreciated.\n",
      "Close\n",
      "Ad Feedback\n",
      "Close icon\n",
      "US\n",
      "World\n",
      "Politics\n",
      "Business\n",
      "Health\n",
      "Entertainment\n",
      "Style\n",
      "Travel\n",
      "Sports\n",
      "Science\n",
      "Climate\n",
      "Weather\n",
      "Ukraine-Russia War\n",
      "Israel-Hama\n"
     ]
    }
   ],
   "source": [
    "def get_brochure_user_prompt(company_name, url):\n",
    "    user_prompt = f\"You are looking at a company called: {company_name}\\n\"\n",
    "    user_prompt += f\"Here are the contents of its landing page and other relevant pages; use this information to build a short brochure of the company in markdown.\\n\"\n",
    "    user_prompt += get_all_details(url)\n",
    "    user_prompt = user_prompt[:5_000] # Truncate if more than 5,000 characters\n",
    "    return user_prompt\n",
    "\n",
    "print(get_brochure_user_prompt(\"CNN\", \"https://www.cnn.com/\")[:1000])  # Print the first 1000 characters"
   ]
  },
  {
   "cell_type": "code",
   "execution_count": 14,
   "id": "3855cf2f",
   "metadata": {},
   "outputs": [
    {
     "name": "stdout",
     "output_type": "stream",
     "text": [
      "Found links: {'links': [{'type': 'about page', 'url': 'https://www.cnn.com/about'}, {'type': 'careers page', 'url': 'https://careers.wbd.com/cnnjobs'}, {'type': 'company profile', 'url': 'https://www.cnn.com/profiles'}, {'type': 'company leadership', 'url': 'https://www.cnn.com/profiles/cnn-leadership'}]}\n"
     ]
    },
    {
     "data": {
      "text/markdown": [
       "# CNN Company Brochure\n",
       "\n",
       "## Overview\n",
       "CNN (Cable News Network) stands at the forefront of delivering timely and compelling news from around the globe. With roots in pioneering 24-hour news coverage, CNN has become a trusted source for breaking news, analysis, and in-depth features covering a variety of topics including politics, business, health, science, and entertainment.\n",
       "\n",
       "---\n",
       "\n",
       "## Our Mission\n",
       "CNN is dedicated to providing accurate and dynamic news coverage to its audience. Our aim is to keep the public informed on evolving situations, with a commitment to journalistic integrity and innovation.\n",
       "\n",
       "---\n",
       "\n",
       "## Company Culture\n",
       "At CNN, we believe that fostering a diverse and inclusive environment is key to our success. Our teams are composed of individuals from various backgrounds and experiences, bringing unique perspectives to our news coverage. We encourage collaboration and creativity, ensuring that every employee has a voice, and nurturing an atmosphere where innovation thrives.\n",
       "\n",
       "---\n",
       "\n",
       "## Customer Engagement\n",
       "We are deeply committed to our audience's feedback. Whether it involves technical issues or content relevance, CNN values listener and viewer feedback as an essential part of our service. We encourage interactive engagement through multiple platforms, including live TV, podcasts, and online articles, catering to the varying preferences of our diverse audience.\n",
       "\n",
       "---\n",
       "\n",
       "## Careers at CNN\n",
       "CNN is always on the lookout for passionate individuals who want to make a difference in journalism. Whether you're a seasoned professional or a new graduate eager to start your career, we offer a broad range of opportunities. Our job roles span areas like reporting, production, digital media, and marketing, all designed to promote professional development in a supportive and stimulating environment.\n",
       "\n",
       "---\n",
       "\n",
       "## Our Audience\n",
       "CNN serves a global audience seeking trustworthy news. From politics and business to health and entertainment, we strive to provide comprehensive coverage that informs and shapes public discourse. Our audience ranges from casual viewers to industry professionals who rely on us for in-depth reporting and analysis.\n",
       "\n",
       "---\n",
       "\n",
       "## Join Us\n",
       "If you’re interested in being part of a leading global news organization that values integrity, creativity, and feedback, we invite you to explore career opportunities with CNN. Together, we can ensure that important stories are reported, and critical issues are addressed.\n",
       "\n",
       "---\n",
       "\n",
       "For more information about our programs, team culture, and career opportunities, visit [CNN Careers](https://www.cnn.com/careers).\n",
       "\n",
       "---\n",
       "\n",
       "Stay informed, engage with us directly, and be part of the global conversation with CNN."
      ],
      "text/plain": [
       "<IPython.core.display.Markdown object>"
      ]
     },
     "metadata": {},
     "output_type": "display_data"
    }
   ],
   "source": [
    "def create_brochure(company_name, url):\n",
    "    response = openai.chat.completions.create(\n",
    "        model=MODEL,\n",
    "        messages=[\n",
    "            {\"role\": \"system\", \"content\": system_prompt},\n",
    "            {\"role\": \"user\", \"content\": get_brochure_user_prompt(company_name, url)}\n",
    "          ],\n",
    "    )\n",
    "    result = response.choices[0].message.content\n",
    "    display(Markdown(result))\n",
    "\n",
    "create_brochure(\"CNN\", \"https://www.cnn.com/\")"
   ]
  },
  {
   "cell_type": "code",
   "execution_count": 16,
   "id": "f5499c19",
   "metadata": {},
   "outputs": [],
   "source": [
    "def stream_brochure(company_name, url):\n",
    "    stream = openai.chat.completions.create(\n",
    "        model=MODEL,\n",
    "        messages=[\n",
    "            {\"role\": \"system\", \"content\": system_prompt},\n",
    "            {\"role\": \"user\", \"content\": get_brochure_user_prompt(company_name, url)}\n",
    "          ],\n",
    "        stream=True\n",
    "    )\n",
    "    \n",
    "    response = \"\"\n",
    "    display_handle = display(Markdown(\"\"), display_id=True)\n",
    "    for chunk in stream:\n",
    "        response += chunk.choices[0].delta.content or ''\n",
    "        response = response.replace(\"```\",\"\").replace(\"markdown\", \"\")\n",
    "        update_display(Markdown(response), display_id=display_handle.display_id)"
   ]
  },
  {
   "cell_type": "code",
   "execution_count": 19,
   "id": "0ade8377",
   "metadata": {},
   "outputs": [
    {
     "name": "stdout",
     "output_type": "stream",
     "text": [
      "Found links: {'links': [{'type': 'about page', 'url': 'https://www.cnn.com/about'}, {'type': 'careers page', 'url': 'https://careers.wbd.com/cnnjobs'}, {'type': 'company profile', 'url': 'https://www.cnn.com/profiles'}, {'type': 'leadership profile', 'url': 'https://www.cnn.com/profiles/cnn-leadership'}, {'type': 'newsletters', 'url': 'https://www.cnn.com/newsletters'}]}\n"
     ]
    },
    {
     "data": {
      "text/markdown": [
       "# CNN Brochure\n",
       "\n",
       "### Company Overview\n",
       "CNN (Cable News Network) is a premier global news organization that provides breaking news, in-depth analysis, and compelling video content to audiences around the world. From politics to climate change, sports to entertainment, CNN covers a diverse array of topics, delivering accurate and timely reports that keep viewers informed on critical issues.\n",
       "\n",
       "### Mission Statement\n",
       "At CNN, our mission is clear: to provide the most trustworthy and impartial news and analysis in an ever-changing world. We strive to empower our audience to make informed decisions by presenting facts first.\n",
       "\n",
       "---\n",
       "\n",
       "### Our Audience\n",
       "CNN serves millions of viewers worldwide, including those in the U.S., Europe, Asia, and beyond. Our audience comprises diverse ages and backgrounds, reflecting a wide spectrum of interests from politics and business to health and entertainment.\n",
       "\n",
       "---\n",
       "\n",
       "### Company Culture\n",
       "CNN fosters a dynamic and inclusive work environment. Employees are encouraged to voice their opinions, share feedback, and contribute to the success of the organization. Our culture is built on collaboration, innovation, and a commitment to excellence. We believe in the power of diverse perspectives to create impactful journalism and strive to support continuous professional development and personal growth within our teams.\n",
       "\n",
       "### Careers at CNN\n",
       "Join a passionate team of journalists, media professionals, and content creators! CNN offers exciting career opportunities across various departments, including journalism, technology, marketing, and production. We seek innovative thinkers who are ready to make a difference in the world of news and media.\n",
       "\n",
       "**Current Openings Include:**\n",
       "- Reporters and Editors \n",
       "- Digital Content Producers \n",
       "- Technical Support Specialists \n",
       "- Media Analysts \n",
       "\n",
       "Discover more about your future career with CNN by visiting our [Careers page](#).\n",
       "\n",
       "---\n",
       "\n",
       "### Customer Engagement\n",
       "CNN values your feedback! We actively encourage our audience to provide insights about their user experience, including technical issues or ad relevance. Your contributions help us improve our services and maintain our commitment to quality journalism.\n",
       "\n",
       "---\n",
       "\n",
       "### Connect with Us\n",
       "Stay informed with the latest updates by subscribing to our newsletters or tuning into our live broadcasts. Access a world of news, analysis, and reports on our website or through our CNN app.\n",
       "\n",
       "Explore more about us or check the latest news:\n",
       "- [Live TV](#)\n",
       "- [Watch CNN TV Schedules](#)\n",
       "- [Subscribe to CNN](#)\n",
       "\n",
       "### Contact Information\n",
       "For additional inquiries or information, please reach out to us through our website. Join us in exploring the world of news, analytics, and engaging storytelling.\n",
       "\n",
       "---\n",
       "\n",
       "**CNN:** Where news is always happening. \n",
       "Find your place in the newsroom of the future!"
      ],
      "text/plain": [
       "<IPython.core.display.Markdown object>"
      ]
     },
     "metadata": {},
     "output_type": "display_data"
    }
   ],
   "source": [
    "stream_brochure(\"CNN\", \"https://www.cnn.com/\")"
   ]
  },
  {
   "cell_type": "code",
   "execution_count": null,
   "id": "72fc6d3f",
   "metadata": {},
   "outputs": [],
   "source": []
  }
 ],
 "metadata": {
  "kernelspec": {
   "display_name": "llms",
   "language": "python",
   "name": "python3"
  },
  "language_info": {
   "codemirror_mode": {
    "name": "ipython",
    "version": 3
   },
   "file_extension": ".py",
   "mimetype": "text/x-python",
   "name": "python",
   "nbconvert_exporter": "python",
   "pygments_lexer": "ipython3",
   "version": "3.11.13"
  }
 },
 "nbformat": 4,
 "nbformat_minor": 5
}

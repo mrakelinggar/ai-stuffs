{
 "cells": [
  {
   "cell_type": "markdown",
   "id": "b81dca0a",
   "metadata": {},
   "source": [
    "## Load Packages"
   ]
  },
  {
   "cell_type": "code",
   "execution_count": 1,
   "id": "48c4d68a",
   "metadata": {},
   "outputs": [],
   "source": [
    "import os\n",
    "from dotenv import load_dotenv\n",
    "from openai import OpenAI\n",
    "import gradio as gr"
   ]
  },
  {
   "cell_type": "markdown",
   "id": "b1e75e54",
   "metadata": {},
   "source": [
    "## Load Environments"
   ]
  },
  {
   "cell_type": "code",
   "execution_count": null,
   "id": "7752aefa",
   "metadata": {},
   "outputs": [
    {
     "data": {
      "text/plain": [
       "True"
      ]
     },
     "execution_count": 2,
     "metadata": {},
     "output_type": "execute_result"
    }
   ],
   "source": [
    "load_dotenv()"
   ]
  },
  {
   "cell_type": "markdown",
   "id": "96e70764",
   "metadata": {},
   "source": [
    "## Initialize OpenAI"
   ]
  },
  {
   "cell_type": "code",
   "execution_count": 3,
   "id": "607795d5",
   "metadata": {},
   "outputs": [],
   "source": [
    "openai = OpenAI(api_key=os.getenv(\"OPENAI_API_KEY\"))\n",
    "MODEL = \"gpt-4o-mini\"\n",
    "\n",
    "system_message = \"\"\"You are a helpful assistant that helps people find information.\"\"\""
   ]
  },
  {
   "cell_type": "code",
   "execution_count": 9,
   "id": "9e2f7411",
   "metadata": {},
   "outputs": [],
   "source": [
    "def chat(message, history):\n",
    "    history_formatted = []\n",
    "    for i, (user_msg, bot_msg) in enumerate(history):\n",
    "        history_formatted.append({\"role\": \"user\", \"content\": user_msg})\n",
    "        history_formatted.append({\"role\": \"assistant\", \"content\": bot_msg})\n",
    "    messages = [{\"role\":\"system\", \"content\":system_message}] + history_formatted + [{\"role\":\"user\", \"content\":message}]\n",
    "\n",
    "    print(\"History is:\")\n",
    "    print(history_formatted)\n",
    "    print(\"And messages is:\")\n",
    "    print(messages)\n",
    "\n",
    "    stream = openai.chat.completions.create(model=MODEL, messages=messages, stream=True)\n",
    "\n",
    "    response = \"\"\n",
    "    for chunk in stream:\n",
    "        response += chunk.choices[0].delta.content or \"\"\n",
    "        yield response"
   ]
  },
  {
   "cell_type": "markdown",
   "id": "41df3eac",
   "metadata": {},
   "source": [
    "## Launch Gradio"
   ]
  },
  {
   "cell_type": "code",
   "execution_count": 10,
   "id": "5ee92b73",
   "metadata": {},
   "outputs": [
    {
     "name": "stderr",
     "output_type": "stream",
     "text": [
      "/Users/mrla/miniconda3/envs/llms/lib/python3.11/site-packages/gradio/chat_interface.py:339: UserWarning: The 'tuples' format for chatbot messages is deprecated and will be removed in a future version of Gradio. Please set type='messages' instead, which uses openai-style 'role' and 'content' keys.\n",
      "  self.chatbot = Chatbot(\n"
     ]
    },
    {
     "name": "stdout",
     "output_type": "stream",
     "text": [
      "* Running on local URL:  http://127.0.0.1:7862\n",
      "* To create a public link, set `share=True` in `launch()`.\n"
     ]
    },
    {
     "data": {
      "text/html": [
       "<div><iframe src=\"http://127.0.0.1:7862/\" width=\"100%\" height=\"500\" allow=\"autoplay; camera; microphone; clipboard-read; clipboard-write;\" frameborder=\"0\" allowfullscreen></iframe></div>"
      ],
      "text/plain": [
       "<IPython.core.display.HTML object>"
      ]
     },
     "metadata": {},
     "output_type": "display_data"
    },
    {
     "data": {
      "text/plain": []
     },
     "execution_count": 10,
     "metadata": {},
     "output_type": "execute_result"
    },
    {
     "name": "stdout",
     "output_type": "stream",
     "text": [
      "History is:\n",
      "[]\n",
      "And messages is:\n",
      "[{'role': 'system', 'content': 'You are a helpful assistant that helps people find information.'}, {'role': 'user', 'content': 'Hi there!'}]\n",
      "History is:\n",
      "[{'role': 'user', 'content': 'Hi there!'}, {'role': 'assistant', 'content': 'Hello! How can I assist you today?'}]\n",
      "And messages is:\n",
      "[{'role': 'system', 'content': 'You are a helpful assistant that helps people find information.'}, {'role': 'user', 'content': 'Hi there!'}, {'role': 'assistant', 'content': 'Hello! How can I assist you today?'}, {'role': 'user', 'content': 'I want to find startup jobs'}]\n",
      "History is:\n",
      "[{'role': 'user', 'content': 'Hi there!'}, {'role': 'assistant', 'content': 'Hello! How can I assist you today?'}, {'role': 'user', 'content': 'I want to find startup jobs'}, {'role': 'assistant', 'content': 'Great! Here are some steps and resources you can use to find startup jobs:\\n\\n1. **Job Boards Specialized in Startups**:\\n   - **AngelList**: A popular platform for startup jobs where you can find opportunities across various roles and industries.\\n   - **Crunchboard**: The job board for TechCrunch, featuring tech and startup jobs.\\n   - **VentureLoop**: Focuses on jobs at venture-backed companies.\\n\\n2. **General Job Boards**:\\n   - **LinkedIn Jobs**: Use filters to find startup companies or roles related to startups.\\n   - **Indeed**: Search for \"startup\" as a keyword along with your skills or desired position.\\n   - **Glassdoor**: Also has sections for startup companies where you can find job postings.\\n\\n3. **Networking**:\\n   - Attend startup events, meetups, or conferences in your area or online. Websites like Meetup.com or Eventbrite can help you find these events.\\n   - Connect with founders and employees of startups on LinkedIn. Engage with their posts and reach out for informational interviews.\\n\\n4. **Social Media**:\\n   - Follow startup incubators and accelerators on Twitter and LinkedIn, as they often share job postings for their portfolio companies.\\n   - Join relevant groups on Facebook or Reddit where startup jobs are frequently shared.\\n\\n5. **Company Websites**:\\n   - Identify startups you’re interested in and check their careers page for job openings. Many startups post roles on their own websites before listing them elsewhere.\\n\\n6. **Recruitment Agencies**:\\n   - Some recruitment agencies specialize in placing candidates in startups. Look for agencies that focus on tech startups if that’s your area of interest.\\n\\n7. **Freelance Platforms**:\\n   - If you\\'re open to contract or freelance opportunities, try platforms like Upwork or Fiverr, where many startups look for temporary help.\\n\\nDo any of these options resonate with you, or is there a specific type of startup job you\\'re looking for?'}]\n",
      "And messages is:\n",
      "[{'role': 'system', 'content': 'You are a helpful assistant that helps people find information.'}, {'role': 'user', 'content': 'Hi there!'}, {'role': 'assistant', 'content': 'Hello! How can I assist you today?'}, {'role': 'user', 'content': 'I want to find startup jobs'}, {'role': 'assistant', 'content': 'Great! Here are some steps and resources you can use to find startup jobs:\\n\\n1. **Job Boards Specialized in Startups**:\\n   - **AngelList**: A popular platform for startup jobs where you can find opportunities across various roles and industries.\\n   - **Crunchboard**: The job board for TechCrunch, featuring tech and startup jobs.\\n   - **VentureLoop**: Focuses on jobs at venture-backed companies.\\n\\n2. **General Job Boards**:\\n   - **LinkedIn Jobs**: Use filters to find startup companies or roles related to startups.\\n   - **Indeed**: Search for \"startup\" as a keyword along with your skills or desired position.\\n   - **Glassdoor**: Also has sections for startup companies where you can find job postings.\\n\\n3. **Networking**:\\n   - Attend startup events, meetups, or conferences in your area or online. Websites like Meetup.com or Eventbrite can help you find these events.\\n   - Connect with founders and employees of startups on LinkedIn. Engage with their posts and reach out for informational interviews.\\n\\n4. **Social Media**:\\n   - Follow startup incubators and accelerators on Twitter and LinkedIn, as they often share job postings for their portfolio companies.\\n   - Join relevant groups on Facebook or Reddit where startup jobs are frequently shared.\\n\\n5. **Company Websites**:\\n   - Identify startups you’re interested in and check their careers page for job openings. Many startups post roles on their own websites before listing them elsewhere.\\n\\n6. **Recruitment Agencies**:\\n   - Some recruitment agencies specialize in placing candidates in startups. Look for agencies that focus on tech startups if that’s your area of interest.\\n\\n7. **Freelance Platforms**:\\n   - If you\\'re open to contract or freelance opportunities, try platforms like Upwork or Fiverr, where many startups look for temporary help.\\n\\nDo any of these options resonate with you, or is there a specific type of startup job you\\'re looking for?'}, {'role': 'user', 'content': 'I want one that specializes in tech and open for international students'}]\n"
     ]
    }
   ],
   "source": [
    "gr.ChatInterface(fn=chat, title=\"Simple Conversation AI\", description=\"A simple conversational AI using OpenAI's API.\").launch()"
   ]
  },
  {
   "cell_type": "code",
   "execution_count": null,
   "id": "4f10b3e3",
   "metadata": {},
   "outputs": [],
   "source": []
  }
 ],
 "metadata": {
  "kernelspec": {
   "display_name": "llms",
   "language": "python",
   "name": "python3"
  },
  "language_info": {
   "codemirror_mode": {
    "name": "ipython",
    "version": 3
   },
   "file_extension": ".py",
   "mimetype": "text/x-python",
   "name": "python",
   "nbconvert_exporter": "python",
   "pygments_lexer": "ipython3",
   "version": "3.11.13"
  }
 },
 "nbformat": 4,
 "nbformat_minor": 5
}

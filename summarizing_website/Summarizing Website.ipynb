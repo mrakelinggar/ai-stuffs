{
 "cells": [
  {
   "cell_type": "markdown",
   "id": "ee46e89b",
   "metadata": {},
   "source": [
    "### Load Packages"
   ]
  },
  {
   "cell_type": "code",
   "execution_count": 1,
   "id": "276facdf",
   "metadata": {},
   "outputs": [],
   "source": [
    "import os\n",
    "import requests\n",
    "from dotenv import load_dotenv\n",
    "from bs4 import BeautifulSoup\n",
    "from IPython.display import Markdown, display\n",
    "from openai import OpenAI\n"
   ]
  },
  {
   "cell_type": "markdown",
   "id": "8f0842c4",
   "metadata": {},
   "source": [
    "### Connect to OpenAI API"
   ]
  },
  {
   "cell_type": "code",
   "execution_count": 3,
   "id": "144094b3",
   "metadata": {},
   "outputs": [
    {
     "name": "stdout",
     "output_type": "stream",
     "text": [
      "OPENAI_API_KEY is set and valid.\n"
     ]
    }
   ],
   "source": [
    "load_dotenv()\n",
    "api_key = os.getenv(\"OPENAI_API_KEY\")\n",
    "if not api_key:\n",
    "    raise ValueError(\"OPENAI_API_KEY environment variable is not set.\")\n",
    "elif not api_key.startswith(\"sk-\"):\n",
    "    raise ValueError(\"OPENAI_API_KEY must start with 'sk-'.\")\n",
    "elif api_key.strip() != api_key:\n",
    "    raise ValueError(\"OPENAI_API_KEY must not contain leading or trailing whitespace.\")\n",
    "else:\n",
    "    print(\"OPENAI_API_KEY is set and valid.\")\n",
    "\n",
    "openai = OpenAI()"
   ]
  },
  {
   "cell_type": "markdown",
   "id": "2024ce91",
   "metadata": {},
   "source": [
    "### Create a Website class"
   ]
  },
  {
   "cell_type": "code",
   "execution_count": 4,
   "id": "866aeadc",
   "metadata": {},
   "outputs": [],
   "source": [
    "class Website:\n",
    "    url: str\n",
    "    title: str\n",
    "    content: str\n",
    "\n",
    "    def __init__(self, url: str):\n",
    "        self.url = url\n",
    "        response = requests.get(url)\n",
    "        soup = BeautifulSoup(response.content, 'html.parser')\n",
    "        self.title = soup.title.string if soup.title else \"No title found\"\n",
    "        for irrelevant in soup(['script', 'style', 'img', 'input']):\n",
    "            irrelevant.decompose()\n",
    "        self.content = soup.get_text(separator=' \\n', strip=True)\n",
    "    \n"
   ]
  },
  {
   "cell_type": "code",
   "execution_count": 22,
   "id": "35ed7781",
   "metadata": {},
   "outputs": [
    {
     "name": "stdout",
     "output_type": "stream",
     "text": [
      "Title: \n",
      "    All products | Books to Scrape - Sandbox\n",
      "\n",
      "Content: iness \n",
      "Biography \n",
      "Thriller \n",
      "Contemporary \n",
      "Spirituality \n",
      "Academic \n",
      "Self Help \n",
      "Historical \n",
      "Christian \n",
      "Suspense \n",
      "Short Stories \n",
      "Novels \n",
      "Health \n",
      "Politics \n",
      "Cultural \n",
      "Erotica \n",
      "Crime \n",
      "All products \n",
      "1000 \n",
      "results - showing \n",
      "1 \n",
      "to \n",
      "20 \n",
      ". \n",
      "Warning! \n",
      "This is a demo website for web scraping purposes. Prices and ratings here were randomly assigned and have no real meaning. \n",
      "A Light in the ... \n",
      "£51.77 \n",
      "In stock \n",
      "Add to basket \n",
      "Tipping the Velvet \n",
      "£53.74 \n",
      "In stock \n",
      "Add to basket \n",
      "Soumission \n",
      "£50.10 \n",
      "In stock \n",
      "\n"
     ]
    }
   ],
   "source": [
    "page = Website(\"https://books.toscrape.com/\")\n",
    "print(f\"Title: {page.title}\")\n",
    "# index_find = page.content.find('violated the 10th Amendment and federal law')\n",
    "print(f\"Content: {page.content[500:1000]}\")"
   ]
  },
  {
   "cell_type": "markdown",
   "id": "1893b4ef",
   "metadata": {},
   "source": [
    "### Create the Prompts"
   ]
  },
  {
   "cell_type": "code",
   "execution_count": 25,
   "id": "a836c8bf",
   "metadata": {},
   "outputs": [
    {
     "data": {
      "text/plain": [
       "[{'role': 'system',\n",
       "  'content': 'You are an assistant that analyzes the contents of a website and provides a short summary, ignoring text that might be navigation related. Respond in markdown.'},\n",
       " {'role': 'user',\n",
       "  'content': \"You are looking at a website titled \\n    All products | Books to Scrape - Sandbox\\n\\nThe contents of this website is as follows; please provide a short summary of this website in markdown. If it includes news or announcements, then summarize these too.\\n\\nAll products | Books to Scrape - Sandbox \\nBooks to Scrape \\nWe love being scraped! \\nHome \\nAll products \\nBooks \\nTravel \\nMystery \\nHistorical Fiction \\nSequential Art \\nClassics \\nPhilosophy \\nRomance \\nWomens Fiction \\nFiction \\nChildrens \\nReligion \\nNonfiction \\nMusic \\nDefault \\nScience Fiction \\nSports and Games \\nAdd a comment \\nFantasy \\nNew Adult \\nYoung Adult \\nScience \\nPoetry \\nParanormal \\nArt \\nPsychology \\nAutobiography \\nParenting \\nAdult Fiction \\nHumor \\nHorror \\nHistory \\nFood and Drink \\nChristian Fiction \\nBusiness \\nBiography \\nThriller \\nContemporary \\nSpirituality \\nAcademic \\nSelf Help \\nHistorical \\nChristian \\nSuspense \\nShort Stories \\nNovels \\nHealth \\nPolitics \\nCultural \\nErotica \\nCrime \\nAll products \\n1000 \\nresults - showing \\n1 \\nto \\n20 \\n. \\nWarning! \\nThis is a demo website for web scraping purposes. Prices and ratings here were randomly assigned and have no real meaning. \\nA Light in the ... \\n£51.77 \\nIn stock \\nAdd to basket \\nTipping the Velvet \\n£53.74 \\nIn stock \\nAdd to basket \\nSoumission \\n£50.10 \\nIn stock \\nAdd to basket \\nSharp Objects \\n£47.82 \\nIn stock \\nAdd to basket \\nSapiens: A Brief History ... \\n£54.23 \\nIn stock \\nAdd to basket \\nThe Requiem Red \\n£22.65 \\nIn stock \\nAdd to basket \\nThe Dirty Little Secrets ... \\n£33.34 \\nIn stock \\nAdd to basket \\nThe Coming Woman: A ... \\n£17.93 \\nIn stock \\nAdd to basket \\nThe Boys in the ... \\n£22.60 \\nIn stock \\nAdd to basket \\nThe Black Maria \\n£52.15 \\nIn stock \\nAdd to basket \\nStarving Hearts (Triangular Trade ... \\n£13.99 \\nIn stock \\nAdd to basket \\nShakespeare's Sonnets \\n£20.66 \\nIn stock \\nAdd to basket \\nSet Me Free \\n£17.46 \\nIn stock \\nAdd to basket \\nScott Pilgrim's Precious Little ... \\n£52.29 \\nIn stock \\nAdd to basket \\nRip it Up and ... \\n£35.02 \\nIn stock \\nAdd to basket \\nOur Band Could Be ... \\n£57.25 \\nIn stock \\nAdd to basket \\nOlio \\n£23.88 \\nIn stock \\nAdd to basket \\nMesaerion: The Best Science ... \\n£37.59 \\nIn stock \\nAdd to basket \\nLibertarianism for Beginners \\n£51.33 \\nIn stock \\nAdd to basket \\nIt's Only the Himalayas \\n£45.17 \\nIn stock \\nAdd to basket \\nPage 1 of 50 \\nnext\"}]"
      ]
     },
     "execution_count": 25,
     "metadata": {},
     "output_type": "execute_result"
    }
   ],
   "source": [
    "system_prompt = \"You are an assistant that analyzes the contents of a website \\\n",
    "and provides a short summary, ignoring text that might be navigation related. \\\n",
    "Respond in markdown.\"\n",
    "\n",
    "# A function that writes a User Prompt that asks for summaries of websites:\n",
    "\n",
    "def user_prompt_for(website):\n",
    "    user_prompt = f\"You are looking at a website titled {website.title}\"\n",
    "    user_prompt += \"\\nThe contents of this website is as follows; \\\n",
    "please provide a short summary of this website in markdown. \\\n",
    "If it includes news or announcements, then summarize these too.\\n\\n\"\n",
    "    user_prompt += website.content\n",
    "    return user_prompt\n",
    "\n",
    "def message_for(website):\n",
    "    return [\n",
    "        {\"role\": \"system\", \"content\": system_prompt},\n",
    "        {\"role\": \"user\", \"content\": user_prompt_for(website)}\n",
    "    ]\n",
    "\n",
    "message_for(page)"
   ]
  },
  {
   "cell_type": "markdown",
   "id": "73e9d7fe",
   "metadata": {},
   "source": [
    "### Call the OpenAI API"
   ]
  },
  {
   "cell_type": "code",
   "execution_count": 26,
   "id": "97fe4b61",
   "metadata": {},
   "outputs": [],
   "source": [
    "def summarize_website(url):\n",
    "    website = Website(url)\n",
    "    messages = message_for(website)\n",
    "    \n",
    "    response = openai.chat.completions.create(\n",
    "        model=\"gpt-4o-mini\",\n",
    "        messages=messages,\n",
    "        # max_tokens=500,\n",
    "        # temperature=0.7\n",
    "    )\n",
    "    \n",
    "    summary = response.choices[0].message.content.strip()\n",
    "    return summary\n",
    "\n",
    "def display_summary(url):\n",
    "    summary = summarize_website(url)\n",
    "    display(Markdown(f\"### Summary of {url}\\n\\n{summary}\"))\n",
    "\n"
   ]
  },
  {
   "cell_type": "code",
   "execution_count": 27,
   "id": "825b5da7",
   "metadata": {},
   "outputs": [
    {
     "data": {
      "text/markdown": [
       "### Summary of https://books.toscrape.com/\n",
       "\n",
       "# Summary of \"All products | Books to Scrape - Sandbox\"\n",
       "\n",
       "The \"Books to Scrape - Sandbox\" website is a demo platform designed for web scraping purposes, showcasing a variety of fictitious books across multiple genres. The website features categories such as Fiction, Nonfiction, Mystery, Romance, Science Fiction, and many others, totaling over a thousand products.\n",
       "\n",
       "## Key Features:\n",
       "- **Product Listings**: Each book is listed with a title, price, and an \"Add to basket\" option. \n",
       "- **Randomized Data**: The prices and ratings displayed on the site are randomly assigned and do not correlate with real products.\n",
       "- **Genre Coverage**: The site includes a wide array of genres, from Classics and Fantasy to Psychology and Erotica.\n",
       "\n",
       "**Note**: This is a demo site, and the products listed are not real."
      ],
      "text/plain": [
       "<IPython.core.display.Markdown object>"
      ]
     },
     "metadata": {},
     "output_type": "display_data"
    }
   ],
   "source": [
    "display_summary(\"https://books.toscrape.com/\")"
   ]
  },
  {
   "cell_type": "code",
   "execution_count": 28,
   "id": "d5732897",
   "metadata": {},
   "outputs": [
    {
     "data": {
      "text/markdown": [
       "### Summary of https://www.cnn.com/\n",
       "\n",
       "# CNN News Summary\n",
       "\n",
       "CNN's website serves as a hub for breaking news, updates, and feature articles across various topics including US and world news, politics, business, health, entertainment, and more. \n",
       "\n",
       "### Key Headlines:\n",
       "1. **Los Angeles Protests**: Active duty service members are being mobilized to support National Guard troops in response to protests in LA, which have drawn attention to tensions involving Elon Musk and President Trump.\n",
       "2. **Sean 'Diddy' Combs Trial**: Testimonies from an accuser reveal troubling details about their relationship and incidents of alleged abuse, providing insight into the ongoing court case.\n",
       "3. **Recent Deaths**: Sly Stone, a pioneering figure in funk music, has passed away at 82.\n",
       "4. **Middle East Tensions**: An Israeli soldier taken hostage has prompted significant media attention, and notable activists including Greta Thunberg have been detained by Israeli forces.\n",
       "\n",
       "### Additional Updates:\n",
       "- Coverage on the **Israel-Hamas War** includes details about military strategies and humanitarian issues.\n",
       "- Reports of ongoing challenges related to **climate change** and significant **science findings** related to space and biological activity on distant planets.\n",
       "\n",
       "CNN continues to provide live updates, breaking news alerts, and in-depth analyses across these stories, aiming to keep the public informed about pressing global events."
      ],
      "text/plain": [
       "<IPython.core.display.Markdown object>"
      ]
     },
     "metadata": {},
     "output_type": "display_data"
    }
   ],
   "source": [
    "display_summary(\"https://www.cnn.com/\")"
   ]
  },
  {
   "cell_type": "code",
   "execution_count": null,
   "id": "ba6aa7f5",
   "metadata": {},
   "outputs": [],
   "source": []
  }
 ],
 "metadata": {
  "kernelspec": {
   "display_name": "llms",
   "language": "python",
   "name": "python3"
  },
  "language_info": {
   "codemirror_mode": {
    "name": "ipython",
    "version": 3
   },
   "file_extension": ".py",
   "mimetype": "text/x-python",
   "name": "python",
   "nbconvert_exporter": "python",
   "pygments_lexer": "ipython3",
   "version": "3.11.13"
  }
 },
 "nbformat": 4,
 "nbformat_minor": 5
}

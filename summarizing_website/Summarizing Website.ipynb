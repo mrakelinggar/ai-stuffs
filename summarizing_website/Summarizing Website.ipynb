{
 "cells": [
  {
   "cell_type": "markdown",
   "id": "ee46e89b",
   "metadata": {},
   "source": [
    "### Load Packages"
   ]
  },
  {
   "cell_type": "code",
   "execution_count": 1,
   "id": "276facdf",
   "metadata": {},
   "outputs": [],
   "source": [
    "import os\n",
    "import requests\n",
    "from dotenv import load_dotenv\n",
    "from bs4 import BeautifulSoup\n",
    "from IPython.display import Markdown, display\n",
    "from openai import OpenAI\n"
   ]
  },
  {
   "cell_type": "markdown",
   "id": "8f0842c4",
   "metadata": {},
   "source": [
    "### Connect to OpenAI API"
   ]
  },
  {
   "cell_type": "code",
   "execution_count": 3,
   "id": "144094b3",
   "metadata": {},
   "outputs": [
    {
     "name": "stdout",
     "output_type": "stream",
     "text": [
      "OPENAI_API_KEY is set and valid.\n"
     ]
    }
   ],
   "source": [
    "load_dotenv()\n",
    "api_key = os.getenv(\"OPENAI_API_KEY\")\n",
    "if not api_key:\n",
    "    raise ValueError(\"OPENAI_API_KEY environment variable is not set.\")\n",
    "elif not api_key.startswith(\"sk-\"):\n",
    "    raise ValueError(\"OPENAI_API_KEY must start with 'sk-'.\")\n",
    "elif api_key.strip() != api_key:\n",
    "    raise ValueError(\"OPENAI_API_KEY must not contain leading or trailing whitespace.\")\n",
    "else:\n",
    "    print(\"OPENAI_API_KEY is set and valid.\")\n",
    "\n",
    "openai = OpenAI()"
   ]
  },
  {
   "cell_type": "markdown",
   "id": "2024ce91",
   "metadata": {},
   "source": [
    "### Create a Website class"
   ]
  },
  {
   "cell_type": "code",
   "execution_count": 4,
   "id": "866aeadc",
   "metadata": {},
   "outputs": [],
   "source": [
    "class Website:\n",
    "    url: str\n",
    "    title: str\n",
    "    content: str\n",
    "\n",
    "    def __init__(self, url: str):\n",
    "        self.url = url\n",
    "        response = requests.get(url)\n",
    "        soup = BeautifulSoup(response.content, 'html.parser')\n",
    "        self.title = soup.title.string if soup.title else \"No title found\"\n",
    "        for irrelevant in soup(['script', 'style', 'img', 'input']):\n",
    "            irrelevant.decompose()\n",
    "        self.content = soup.get_text(separator=' \\n', strip=True)\n",
    "    \n"
   ]
  },
  {
   "cell_type": "code",
   "execution_count": 19,
   "id": "35ed7781",
   "metadata": {},
   "outputs": [
    {
     "name": "stdout",
     "output_type": "stream",
     "text": [
      "Title: Breaking News, Latest News and Videos | CNN\n",
      "Content: Daniel Cole/Reuters \n",
      "Live Updates \n",
      "The president ‘violated the 10th Amendment and federal law,’ state’s attorney general says. Trump has defended deploying troops during LA’s immigration protests. \n",
      "Analysis \n",
      "The showdown the White House has been waiting for \n",
      "LA protests inch Elon Musk back to President Trump \n",
      "Trump acted without Newsom’s cooperatio\n"
     ]
    }
   ],
   "source": [
    "page = Website(\"https://www.cnn.com/\")\n",
    "print(f\"Title: {page.title}\")\n",
    "# print(f\"Content: {page.content[5500:8000]}...\")  # Print first 500 characters of content\n",
    "index_find = page.content.find('violated the 10th Amendment and federal law')\n",
    "print(f\"Content: {page.content[index_find-50:index_find+300]}\")"
   ]
  },
  {
   "cell_type": "code",
   "execution_count": 18,
   "id": "431c2df6",
   "metadata": {},
   "outputs": [
    {
     "name": "stdout",
     "output_type": "stream",
     "text": [
      "3153\n"
     ]
    }
   ],
   "source": [
    "print(page.content.find('violated the 10th Amendment and federal law'))"
   ]
  },
  {
   "cell_type": "code",
   "execution_count": null,
   "id": "a836c8bf",
   "metadata": {},
   "outputs": [],
   "source": []
  }
 ],
 "metadata": {
  "kernelspec": {
   "display_name": "llms",
   "language": "python",
   "name": "python3"
  },
  "language_info": {
   "codemirror_mode": {
    "name": "ipython",
    "version": 3
   },
   "file_extension": ".py",
   "mimetype": "text/x-python",
   "name": "python",
   "nbconvert_exporter": "python",
   "pygments_lexer": "ipython3",
   "version": "3.11.13"
  }
 },
 "nbformat": 4,
 "nbformat_minor": 5
}
